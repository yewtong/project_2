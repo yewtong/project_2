{
 "cells": [
  {
   "cell_type": "markdown",
   "metadata": {},
   "source": [
    "# Project 2: Predicting House Prices - An Analysis of Housing in Ames, Iowa"
   ]
  },
  {
   "cell_type": "markdown",
   "metadata": {},
   "source": [
    "## Problem Statement"
   ]
  },
  {
   "cell_type": "markdown",
   "metadata": {},
   "source": [
    "## Executive Summary"
   ]
  },
  {
   "cell_type": "code",
   "execution_count": 1,
   "metadata": {},
   "outputs": [],
   "source": [
    "import numpy as np\n",
    "import pandas as pd\n",
    "import patsy\n",
    "\n",
    "from sklearn.linear_model import LinearRegression, RidgeCV, LassoCV, ElasticNetCV\n",
    "from sklearn.model_selection import cross_val_score, train_test_split, KFold\n",
    "from sklearn.preprocessing import StandardScaler\n",
    "\n",
    "import matplotlib\n",
    "import matplotlib.pyplot as plt\n",
    "import seaborn as sns\n",
    "plt.style.use('fivethirtyeight')\n",
    "\n",
    "%config InlineBackend.figure_format = 'retina'\n",
    "%matplotlib inline"
   ]
  },
  {
   "cell_type": "markdown",
   "metadata": {},
   "source": [
    "## Data Import and Shape"
   ]
  },
  {
   "cell_type": "code",
   "execution_count": 2,
   "metadata": {},
   "outputs": [
    {
     "data": {
      "text/html": [
       "<div>\n",
       "<style scoped>\n",
       "    .dataframe tbody tr th:only-of-type {\n",
       "        vertical-align: middle;\n",
       "    }\n",
       "\n",
       "    .dataframe tbody tr th {\n",
       "        vertical-align: top;\n",
       "    }\n",
       "\n",
       "    .dataframe thead th {\n",
       "        text-align: right;\n",
       "    }\n",
       "</style>\n",
       "<table border=\"1\" class=\"dataframe\">\n",
       "  <thead>\n",
       "    <tr style=\"text-align: right;\">\n",
       "      <th></th>\n",
       "      <th>Id</th>\n",
       "      <th>PID</th>\n",
       "      <th>MS SubClass</th>\n",
       "      <th>MS Zoning</th>\n",
       "      <th>Lot Frontage</th>\n",
       "      <th>Lot Area</th>\n",
       "      <th>Street</th>\n",
       "      <th>Alley</th>\n",
       "      <th>Lot Shape</th>\n",
       "      <th>Land Contour</th>\n",
       "      <th>...</th>\n",
       "      <th>Screen Porch</th>\n",
       "      <th>Pool Area</th>\n",
       "      <th>Pool QC</th>\n",
       "      <th>Fence</th>\n",
       "      <th>Misc Feature</th>\n",
       "      <th>Misc Val</th>\n",
       "      <th>Mo Sold</th>\n",
       "      <th>Yr Sold</th>\n",
       "      <th>Sale Type</th>\n",
       "      <th>SalePrice</th>\n",
       "    </tr>\n",
       "  </thead>\n",
       "  <tbody>\n",
       "    <tr>\n",
       "      <th>0</th>\n",
       "      <td>109</td>\n",
       "      <td>533352170</td>\n",
       "      <td>60</td>\n",
       "      <td>RL</td>\n",
       "      <td>NaN</td>\n",
       "      <td>13517</td>\n",
       "      <td>Pave</td>\n",
       "      <td>NaN</td>\n",
       "      <td>IR1</td>\n",
       "      <td>Lvl</td>\n",
       "      <td>...</td>\n",
       "      <td>0</td>\n",
       "      <td>0</td>\n",
       "      <td>NaN</td>\n",
       "      <td>NaN</td>\n",
       "      <td>NaN</td>\n",
       "      <td>0</td>\n",
       "      <td>3</td>\n",
       "      <td>2010</td>\n",
       "      <td>WD</td>\n",
       "      <td>130500</td>\n",
       "    </tr>\n",
       "    <tr>\n",
       "      <th>1</th>\n",
       "      <td>544</td>\n",
       "      <td>531379050</td>\n",
       "      <td>60</td>\n",
       "      <td>RL</td>\n",
       "      <td>43.0</td>\n",
       "      <td>11492</td>\n",
       "      <td>Pave</td>\n",
       "      <td>NaN</td>\n",
       "      <td>IR1</td>\n",
       "      <td>Lvl</td>\n",
       "      <td>...</td>\n",
       "      <td>0</td>\n",
       "      <td>0</td>\n",
       "      <td>NaN</td>\n",
       "      <td>NaN</td>\n",
       "      <td>NaN</td>\n",
       "      <td>0</td>\n",
       "      <td>4</td>\n",
       "      <td>2009</td>\n",
       "      <td>WD</td>\n",
       "      <td>220000</td>\n",
       "    </tr>\n",
       "    <tr>\n",
       "      <th>2</th>\n",
       "      <td>153</td>\n",
       "      <td>535304180</td>\n",
       "      <td>20</td>\n",
       "      <td>RL</td>\n",
       "      <td>68.0</td>\n",
       "      <td>7922</td>\n",
       "      <td>Pave</td>\n",
       "      <td>NaN</td>\n",
       "      <td>Reg</td>\n",
       "      <td>Lvl</td>\n",
       "      <td>...</td>\n",
       "      <td>0</td>\n",
       "      <td>0</td>\n",
       "      <td>NaN</td>\n",
       "      <td>NaN</td>\n",
       "      <td>NaN</td>\n",
       "      <td>0</td>\n",
       "      <td>1</td>\n",
       "      <td>2010</td>\n",
       "      <td>WD</td>\n",
       "      <td>109000</td>\n",
       "    </tr>\n",
       "  </tbody>\n",
       "</table>\n",
       "<p>3 rows × 81 columns</p>\n",
       "</div>"
      ],
      "text/plain": [
       "    Id        PID  MS SubClass MS Zoning  Lot Frontage  Lot Area Street Alley  \\\n",
       "0  109  533352170           60        RL           NaN     13517   Pave   NaN   \n",
       "1  544  531379050           60        RL          43.0     11492   Pave   NaN   \n",
       "2  153  535304180           20        RL          68.0      7922   Pave   NaN   \n",
       "\n",
       "  Lot Shape Land Contour  ... Screen Porch Pool Area Pool QC Fence  \\\n",
       "0       IR1          Lvl  ...            0         0     NaN   NaN   \n",
       "1       IR1          Lvl  ...            0         0     NaN   NaN   \n",
       "2       Reg          Lvl  ...            0         0     NaN   NaN   \n",
       "\n",
       "  Misc Feature Misc Val Mo Sold Yr Sold  Sale Type  SalePrice  \n",
       "0          NaN        0       3    2010        WD      130500  \n",
       "1          NaN        0       4    2009        WD      220000  \n",
       "2          NaN        0       1    2010        WD      109000  \n",
       "\n",
       "[3 rows x 81 columns]"
      ]
     },
     "execution_count": 2,
     "metadata": {},
     "output_type": "execute_result"
    }
   ],
   "source": [
    "df_train = pd.read_csv(\"../datasets/train.csv\")\n",
    "df_train.head(3)"
   ]
  },
  {
   "cell_type": "code",
   "execution_count": 3,
   "metadata": {},
   "outputs": [
    {
     "data": {
      "text/plain": [
       "(2051, 81)"
      ]
     },
     "execution_count": 3,
     "metadata": {},
     "output_type": "execute_result"
    }
   ],
   "source": [
    "df_train.shape"
   ]
  },
  {
   "cell_type": "code",
   "execution_count": 4,
   "metadata": {},
   "outputs": [
    {
     "data": {
      "text/html": [
       "<div>\n",
       "<style scoped>\n",
       "    .dataframe tbody tr th:only-of-type {\n",
       "        vertical-align: middle;\n",
       "    }\n",
       "\n",
       "    .dataframe tbody tr th {\n",
       "        vertical-align: top;\n",
       "    }\n",
       "\n",
       "    .dataframe thead th {\n",
       "        text-align: right;\n",
       "    }\n",
       "</style>\n",
       "<table border=\"1\" class=\"dataframe\">\n",
       "  <thead>\n",
       "    <tr style=\"text-align: right;\">\n",
       "      <th></th>\n",
       "      <th>Id</th>\n",
       "      <th>PID</th>\n",
       "      <th>MS SubClass</th>\n",
       "      <th>MS Zoning</th>\n",
       "      <th>Lot Frontage</th>\n",
       "      <th>Lot Area</th>\n",
       "      <th>Street</th>\n",
       "      <th>Alley</th>\n",
       "      <th>Lot Shape</th>\n",
       "      <th>Land Contour</th>\n",
       "      <th>...</th>\n",
       "      <th>3Ssn Porch</th>\n",
       "      <th>Screen Porch</th>\n",
       "      <th>Pool Area</th>\n",
       "      <th>Pool QC</th>\n",
       "      <th>Fence</th>\n",
       "      <th>Misc Feature</th>\n",
       "      <th>Misc Val</th>\n",
       "      <th>Mo Sold</th>\n",
       "      <th>Yr Sold</th>\n",
       "      <th>Sale Type</th>\n",
       "    </tr>\n",
       "  </thead>\n",
       "  <tbody>\n",
       "    <tr>\n",
       "      <th>0</th>\n",
       "      <td>2658</td>\n",
       "      <td>902301120</td>\n",
       "      <td>190</td>\n",
       "      <td>RM</td>\n",
       "      <td>69.0</td>\n",
       "      <td>9142</td>\n",
       "      <td>Pave</td>\n",
       "      <td>Grvl</td>\n",
       "      <td>Reg</td>\n",
       "      <td>Lvl</td>\n",
       "      <td>...</td>\n",
       "      <td>0</td>\n",
       "      <td>0</td>\n",
       "      <td>0</td>\n",
       "      <td>NaN</td>\n",
       "      <td>NaN</td>\n",
       "      <td>NaN</td>\n",
       "      <td>0</td>\n",
       "      <td>4</td>\n",
       "      <td>2006</td>\n",
       "      <td>WD</td>\n",
       "    </tr>\n",
       "    <tr>\n",
       "      <th>1</th>\n",
       "      <td>2718</td>\n",
       "      <td>905108090</td>\n",
       "      <td>90</td>\n",
       "      <td>RL</td>\n",
       "      <td>NaN</td>\n",
       "      <td>9662</td>\n",
       "      <td>Pave</td>\n",
       "      <td>NaN</td>\n",
       "      <td>IR1</td>\n",
       "      <td>Lvl</td>\n",
       "      <td>...</td>\n",
       "      <td>0</td>\n",
       "      <td>0</td>\n",
       "      <td>0</td>\n",
       "      <td>NaN</td>\n",
       "      <td>NaN</td>\n",
       "      <td>NaN</td>\n",
       "      <td>0</td>\n",
       "      <td>8</td>\n",
       "      <td>2006</td>\n",
       "      <td>WD</td>\n",
       "    </tr>\n",
       "    <tr>\n",
       "      <th>2</th>\n",
       "      <td>2414</td>\n",
       "      <td>528218130</td>\n",
       "      <td>60</td>\n",
       "      <td>RL</td>\n",
       "      <td>58.0</td>\n",
       "      <td>17104</td>\n",
       "      <td>Pave</td>\n",
       "      <td>NaN</td>\n",
       "      <td>IR1</td>\n",
       "      <td>Lvl</td>\n",
       "      <td>...</td>\n",
       "      <td>0</td>\n",
       "      <td>0</td>\n",
       "      <td>0</td>\n",
       "      <td>NaN</td>\n",
       "      <td>NaN</td>\n",
       "      <td>NaN</td>\n",
       "      <td>0</td>\n",
       "      <td>9</td>\n",
       "      <td>2006</td>\n",
       "      <td>New</td>\n",
       "    </tr>\n",
       "  </tbody>\n",
       "</table>\n",
       "<p>3 rows × 80 columns</p>\n",
       "</div>"
      ],
      "text/plain": [
       "     Id        PID  MS SubClass MS Zoning  Lot Frontage  Lot Area Street  \\\n",
       "0  2658  902301120          190        RM          69.0      9142   Pave   \n",
       "1  2718  905108090           90        RL           NaN      9662   Pave   \n",
       "2  2414  528218130           60        RL          58.0     17104   Pave   \n",
       "\n",
       "  Alley Lot Shape Land Contour  ... 3Ssn Porch Screen Porch Pool Area Pool QC  \\\n",
       "0  Grvl       Reg          Lvl  ...          0            0         0     NaN   \n",
       "1   NaN       IR1          Lvl  ...          0            0         0     NaN   \n",
       "2   NaN       IR1          Lvl  ...          0            0         0     NaN   \n",
       "\n",
       "  Fence Misc Feature Misc Val Mo Sold  Yr Sold  Sale Type  \n",
       "0   NaN          NaN        0       4     2006        WD   \n",
       "1   NaN          NaN        0       8     2006        WD   \n",
       "2   NaN          NaN        0       9     2006        New  \n",
       "\n",
       "[3 rows x 80 columns]"
      ]
     },
     "execution_count": 4,
     "metadata": {},
     "output_type": "execute_result"
    }
   ],
   "source": [
    "df_test = pd.read_csv(\"../datasets/test.csv\") # missing target vector \"SalePrice\"\n",
    "df_test.head(3)"
   ]
  },
  {
   "cell_type": "code",
   "execution_count": 5,
   "metadata": {},
   "outputs": [
    {
     "data": {
      "text/plain": [
       "(879, 80)"
      ]
     },
     "execution_count": 5,
     "metadata": {},
     "output_type": "execute_result"
    }
   ],
   "source": [
    "df_test.shape"
   ]
  },
  {
   "cell_type": "code",
   "execution_count": 6,
   "metadata": {},
   "outputs": [
    {
     "data": {
      "text/html": [
       "<div>\n",
       "<style scoped>\n",
       "    .dataframe tbody tr th:only-of-type {\n",
       "        vertical-align: middle;\n",
       "    }\n",
       "\n",
       "    .dataframe tbody tr th {\n",
       "        vertical-align: top;\n",
       "    }\n",
       "\n",
       "    .dataframe thead th {\n",
       "        text-align: right;\n",
       "    }\n",
       "</style>\n",
       "<table border=\"1\" class=\"dataframe\">\n",
       "  <thead>\n",
       "    <tr style=\"text-align: right;\">\n",
       "      <th></th>\n",
       "      <th>Id</th>\n",
       "      <th>SalePrice</th>\n",
       "    </tr>\n",
       "  </thead>\n",
       "  <tbody>\n",
       "    <tr>\n",
       "      <th>0</th>\n",
       "      <td>2</td>\n",
       "      <td>181479.1217</td>\n",
       "    </tr>\n",
       "    <tr>\n",
       "      <th>1</th>\n",
       "      <td>4</td>\n",
       "      <td>181479.1217</td>\n",
       "    </tr>\n",
       "    <tr>\n",
       "      <th>2</th>\n",
       "      <td>6</td>\n",
       "      <td>181479.1217</td>\n",
       "    </tr>\n",
       "  </tbody>\n",
       "</table>\n",
       "</div>"
      ],
      "text/plain": [
       "   Id    SalePrice\n",
       "0   2  181479.1217\n",
       "1   4  181479.1217\n",
       "2   6  181479.1217"
      ]
     },
     "execution_count": 6,
     "metadata": {},
     "output_type": "execute_result"
    }
   ],
   "source": [
    "pd.read_csv(\"../datasets/sample_sub_reg.csv\").head(3)\n",
    "# to submit predicted prices in csv format with two cols [\"Id\", \"SalePrice\"]"
   ]
  },
  {
   "cell_type": "code",
   "execution_count": 7,
   "metadata": {},
   "outputs": [
    {
     "data": {
      "text/plain": [
       "False    2051\n",
       "Name: Id, dtype: int64"
      ]
     },
     "execution_count": 7,
     "metadata": {},
     "output_type": "execute_result"
    }
   ],
   "source": [
    "df_train.Id.isin(df_test.Id).value_counts() # no duplicate \"Id\" across df_train and df_test"
   ]
  },
  {
   "cell_type": "markdown",
   "metadata": {},
   "source": [
    "## Negotiate Missing Data: Training Set"
   ]
  },
  {
   "cell_type": "code",
   "execution_count": 8,
   "metadata": {},
   "outputs": [
    {
     "data": {
      "text/plain": [
       "Pool QC           2042\n",
       "Misc Feature      1986\n",
       "Alley             1911\n",
       "Fence             1651\n",
       "Fireplace Qu      1000\n",
       "Lot Frontage       330\n",
       "Garage Finish      114\n",
       "Garage Cond        114\n",
       "Garage Qual        114\n",
       "Garage Yr Blt      114\n",
       "Garage Type        113\n",
       "Bsmt Exposure       58\n",
       "BsmtFin Type 2      56\n",
       "BsmtFin Type 1      55\n",
       "Bsmt Cond           55\n",
       "Bsmt Qual           55\n",
       "Mas Vnr Type        22\n",
       "Mas Vnr Area        22\n",
       "Bsmt Half Bath       2\n",
       "Bsmt Full Bath       2\n",
       "Garage Cars          1\n",
       "Garage Area          1\n",
       "Bsmt Unf SF          1\n",
       "BsmtFin SF 2         1\n",
       "Total Bsmt SF        1\n",
       "BsmtFin SF 1         1\n",
       "dtype: int64"
      ]
     },
     "execution_count": 8,
     "metadata": {},
     "output_type": "execute_result"
    }
   ],
   "source": [
    "train_null = df_train.isnull().sum().sort_values(ascending=False)[:26]\n",
    "\n",
    "# there are 26 features with missing values\n",
    "train_null"
   ]
  },
  {
   "cell_type": "code",
   "execution_count": 9,
   "metadata": {},
   "outputs": [
    {
     "data": {
      "text/plain": [
       "Pool QC           875\n",
       "Misc Feature      838\n",
       "Alley             821\n",
       "Fence             707\n",
       "Fireplace Qu      422\n",
       "Lot Frontage      160\n",
       "Garage Cond        45\n",
       "Garage Qual        45\n",
       "Garage Yr Blt      45\n",
       "Garage Finish      45\n",
       "Garage Type        44\n",
       "Bsmt Exposure      25\n",
       "BsmtFin Type 1     25\n",
       "Bsmt Qual          25\n",
       "BsmtFin Type 2     25\n",
       "Bsmt Cond          25\n",
       "Mas Vnr Area        1\n",
       "Mas Vnr Type        1\n",
       "Electrical          1\n",
       "dtype: int64"
      ]
     },
     "execution_count": 9,
     "metadata": {},
     "output_type": "execute_result"
    }
   ],
   "source": [
    "test_null = df_test.isnull().sum().sort_values(ascending=False)[:19]\n",
    "\n",
    "# 19 features with missing values\n",
    "test_null"
   ]
  },
  {
   "cell_type": "code",
   "execution_count": 10,
   "metadata": {},
   "outputs": [],
   "source": [
    "# create sets out of features with missing values\n",
    "train_null = set(train_null.index)\n",
    "test_null = set(test_null.index)"
   ]
  },
  {
   "cell_type": "code",
   "execution_count": 11,
   "metadata": {},
   "outputs": [
    {
     "name": "stdout",
     "output_type": "stream",
     "text": [
      "Features with missing values in Training Set but not in Test Set are:\n",
      "BsmtFin SF 2, Bsmt Unf SF, Garage Area, Bsmt Full Bath, Total Bsmt SF, Garage Cars, BsmtFin SF 1, Bsmt Half Bath.\n",
      "\n",
      "Features with missing values in both Training Set and in Test Set are:\n",
      "Bsmt Qual, Garage Finish, Bsmt Cond, Lot Frontage, Mas Vnr Type, Garage Type, Fence, BsmtFin Type 2, Garage Yr Blt, Garage Cond, Alley, Bsmt Exposure, BsmtFin Type 1, Fireplace Qu, Pool QC, Mas Vnr Area, Misc Feature, Garage Qual.\n",
      "\n",
      "Features with missing values in Testing Set but not in Training Set are:\n",
      "Electrical.\n"
     ]
    }
   ],
   "source": [
    "# there are missing values for both df_train and df_test\n",
    "# find intersection and differences between sets\n",
    "\n",
    "print(\"Features with missing values in Training Set but not in Test Set are:\\n{}.\"\\\n",
    "      .format(\", \".join(feat for feat in train_null.difference(test_null))))\n",
    "print()\n",
    "print(\"Features with missing values in both Training Set and in Test Set are:\\n{}.\"\\\n",
    "      .format(\", \".join(feat for feat in train_null.intersection(test_null))))\n",
    "print()\n",
    "print(\"Features with missing values in Testing Set but not in Training Set are:\\n{}.\"\\\n",
    "      .format(\", \".join(feat for feat in test_null.difference(train_null))))"
   ]
  },
  {
   "cell_type": "code",
   "execution_count": 12,
   "metadata": {},
   "outputs": [],
   "source": [
    "# there are many shared features with missing values\n",
    "# which suggest either a systematic error in data collection/entry\n",
    "# or a systematic difference in data of interest between respondents and non-respondents"
   ]
  },
  {
   "cell_type": "code",
   "execution_count": 13,
   "metadata": {},
   "outputs": [],
   "source": [
    "# begin checking df_train null values in order from most to least"
   ]
  },
  {
   "cell_type": "code",
   "execution_count": 14,
   "metadata": {},
   "outputs": [
    {
     "data": {
      "text/html": [
       "<div>\n",
       "<style scoped>\n",
       "    .dataframe tbody tr th:only-of-type {\n",
       "        vertical-align: middle;\n",
       "    }\n",
       "\n",
       "    .dataframe tbody tr th {\n",
       "        vertical-align: top;\n",
       "    }\n",
       "\n",
       "    .dataframe thead th {\n",
       "        text-align: right;\n",
       "    }\n",
       "</style>\n",
       "<table border=\"1\" class=\"dataframe\">\n",
       "  <thead>\n",
       "    <tr style=\"text-align: right;\">\n",
       "      <th></th>\n",
       "      <th>Pool Area</th>\n",
       "      <th>Pool QC</th>\n",
       "    </tr>\n",
       "  </thead>\n",
       "  <tbody>\n",
       "    <tr>\n",
       "      <th>0</th>\n",
       "      <td>0</td>\n",
       "      <td>NaN</td>\n",
       "    </tr>\n",
       "    <tr>\n",
       "      <th>1</th>\n",
       "      <td>0</td>\n",
       "      <td>NaN</td>\n",
       "    </tr>\n",
       "    <tr>\n",
       "      <th>2</th>\n",
       "      <td>0</td>\n",
       "      <td>NaN</td>\n",
       "    </tr>\n",
       "  </tbody>\n",
       "</table>\n",
       "</div>"
      ],
      "text/plain": [
       "   Pool Area Pool QC\n",
       "0          0     NaN\n",
       "1          0     NaN\n",
       "2          0     NaN"
      ]
     },
     "execution_count": 14,
     "metadata": {},
     "output_type": "execute_result"
    }
   ],
   "source": [
    "sel_cols = [\"Pool Area\", \"Pool QC\"]\n",
    "df_train[sel_cols].head(3)"
   ]
  },
  {
   "cell_type": "code",
   "execution_count": 15,
   "metadata": {},
   "outputs": [],
   "source": [
    "def check_pool(df):\n",
    "    have_pool = []\n",
    "    for i, row in df.iterrows():\n",
    "        if row[\"Pool Area\"]!=0 and row[\"Pool QC\"]==None: # filter out rows with Pools and yet missing \"Pool QC\" data\n",
    "            print(row[[\"Pool Area\", \"Pool QC\"]]) # print missing values that cannot be deduced\n",
    "        if row[\"Pool Area\"]!=0 and row[\"Pool QC\"]!=None: # filter out rows with Pools and no missing \"Pool QC\" data\n",
    "            have_pool.append(i) # append all row index with complete pool data\n",
    "    print(f\"There are {len(df)-len(have_pool)} rows with incomplete pool data out of a dataset of size {len(df)}.\")\n",
    "    print(f\"There are {len(have_pool)} rows with complete pool data out of a dataset of size {len(df)}.\")"
   ]
  },
  {
   "cell_type": "code",
   "execution_count": 16,
   "metadata": {},
   "outputs": [
    {
     "name": "stdout",
     "output_type": "stream",
     "text": [
      "There are 2042 rows with incomplete pool data out of a dataset of size 2051.\n",
      "There are 9 rows with complete pool data out of a dataset of size 2051.\n"
     ]
    }
   ],
   "source": [
    "check_pool(df_train)"
   ]
  },
  {
   "cell_type": "code",
   "execution_count": 17,
   "metadata": {},
   "outputs": [],
   "source": [
    "# 2042 incomplete pool data matches the null values found in \"Pool QC\"\n",
    "# since there are no missing values in \"Pool Area\"\n",
    "# and all missing values in \"Pool QC\" registers a 0 in \"Pool Area\"\n",
    "# we can deduce that these are properties with no pools and therefore no need to check for \"Pool QC\"\n",
    "# following the data dict, the correct value to be imputed should be a str(\"NA\")"
   ]
  },
  {
   "cell_type": "code",
   "execution_count": 18,
   "metadata": {},
   "outputs": [],
   "source": [
    "df_train.loc[:, \"Pool QC\"].fillna(\"NA\", inplace=True) # replace all NaN with str(\"NA\")"
   ]
  },
  {
   "cell_type": "code",
   "execution_count": 19,
   "metadata": {},
   "outputs": [
    {
     "data": {
      "text/plain": [
       "NA    2042\n",
       "Gd       4\n",
       "TA       2\n",
       "Fa       2\n",
       "Ex       1\n",
       "Name: Pool QC, dtype: int64"
      ]
     },
     "execution_count": 19,
     "metadata": {},
     "output_type": "execute_result"
    }
   ],
   "source": [
    "df_train[\"Pool QC\"].value_counts() # verify change has been made"
   ]
  },
  {
   "cell_type": "code",
   "execution_count": 20,
   "metadata": {},
   "outputs": [],
   "source": [
    "# check \"Misc Feature\" missing values against \"Misc Val\""
   ]
  },
  {
   "cell_type": "code",
   "execution_count": 21,
   "metadata": {},
   "outputs": [
    {
     "data": {
      "text/plain": [
       "Shed    56\n",
       "Gar2     4\n",
       "Othr     3\n",
       "TenC     1\n",
       "Elev     1\n",
       "Name: Misc Feature, dtype: int64"
      ]
     },
     "execution_count": 21,
     "metadata": {},
     "output_type": "execute_result"
    }
   ],
   "source": [
    "df_train[\"Misc Feature\"].value_counts()"
   ]
  },
  {
   "cell_type": "code",
   "execution_count": 22,
   "metadata": {},
   "outputs": [
    {
     "data": {
      "text/plain": [
       "count     2051.000000\n",
       "mean        51.574354\n",
       "std        573.393985\n",
       "min          0.000000\n",
       "25%          0.000000\n",
       "50%          0.000000\n",
       "75%          0.000000\n",
       "max      17000.000000\n",
       "Name: Misc Val, dtype: float64"
      ]
     },
     "execution_count": 22,
     "metadata": {},
     "output_type": "execute_result"
    }
   ],
   "source": [
    "df_train[\"Misc Val\"].describe() # there are no missing values in \"Misc Val\""
   ]
  },
  {
   "cell_type": "code",
   "execution_count": 23,
   "metadata": {},
   "outputs": [],
   "source": [
    "def check_misc(df):\n",
    "    have_misc = []\n",
    "    for i, row in df.iterrows():\n",
    "        if row[\"Misc Val\"]!=0 and row[\"Misc Feature\"]==None: # filter out rows with Misc Val and missing \"Misc Feature\" data\n",
    "            print(row[[\"Misc Val\", \"Misc Feature\"]]) # print missing values that cannot be deduced\n",
    "        if row[\"Misc Val\"]!=0 and row[\"Misc Feature\"]!=None: # filter out rows with Misc Val and \"Misc Feature\" data\n",
    "            have_misc.append(i) # append all row index with complete Misc data\n",
    "    print(f\"There are {len(df)-len(have_misc)} rows with incomplete pool data out of a dataset of size {len(df)}.\")\n",
    "    print(f\"There are {len(have_misc)} rows with complete pool data out of a dataset of size {len(df)}.\")"
   ]
  },
  {
   "cell_type": "code",
   "execution_count": 24,
   "metadata": {},
   "outputs": [
    {
     "name": "stdout",
     "output_type": "stream",
     "text": [
      "There are 1986 rows with incomplete pool data out of a dataset of size 2051.\n",
      "There are 65 rows with complete pool data out of a dataset of size 2051.\n"
     ]
    }
   ],
   "source": [
    "check_misc(df_train)"
   ]
  },
  {
   "cell_type": "code",
   "execution_count": 25,
   "metadata": {},
   "outputs": [],
   "source": [
    "# 1986 incomplete misc data matches the null values found in \"Misc Feature\"\n",
    "# since there are no missing values in \"Misc Val\"\n",
    "# and all missing values in \"Misc Feature\" registers a 0 in \"Misc Val\"\n",
    "# we can deduce that these are properties with no \"Misc Feature\"\n",
    "# following the data dict, the correct value to be imputed should be a str(\"NA\")"
   ]
  },
  {
   "cell_type": "code",
   "execution_count": 26,
   "metadata": {},
   "outputs": [],
   "source": [
    "df_train.loc[:, \"Misc Feature\"].fillna(\"NA\", inplace=True) # replace all NaN with str(\"NA\")"
   ]
  },
  {
   "cell_type": "code",
   "execution_count": 27,
   "metadata": {},
   "outputs": [
    {
     "data": {
      "text/plain": [
       "NA      1986\n",
       "Shed      56\n",
       "Gar2       4\n",
       "Othr       3\n",
       "TenC       1\n",
       "Elev       1\n",
       "Name: Misc Feature, dtype: int64"
      ]
     },
     "execution_count": 27,
     "metadata": {},
     "output_type": "execute_result"
    }
   ],
   "source": [
    "df_train[\"Misc Feature\"].value_counts() # verify change has been made"
   ]
  },
  {
   "cell_type": "code",
   "execution_count": 28,
   "metadata": {},
   "outputs": [],
   "source": [
    "# check \"Alley\" against \"Lot Config\""
   ]
  },
  {
   "cell_type": "code",
   "execution_count": 29,
   "metadata": {},
   "outputs": [
    {
     "data": {
      "text/plain": [
       "Grvl    85\n",
       "Pave    55\n",
       "Name: Alley, dtype: int64"
      ]
     },
     "execution_count": 29,
     "metadata": {},
     "output_type": "execute_result"
    }
   ],
   "source": [
    "df_train[\"Alley\"].value_counts()\n",
    "# missing \"NA\" for no alley access\n",
    "# 1911 missing values\n",
    "# 140 recorded values"
   ]
  },
  {
   "cell_type": "code",
   "execution_count": 30,
   "metadata": {},
   "outputs": [
    {
     "data": {
      "text/plain": [
       "Inside     1503\n",
       "Corner      348\n",
       "CulDSac     131\n",
       "FR2          60\n",
       "FR3           9\n",
       "Name: Lot Config, dtype: int64"
      ]
     },
     "execution_count": 30,
     "metadata": {},
     "output_type": "execute_result"
    }
   ],
   "source": [
    "df_train[\"Lot Config\"].value_counts() # no missing values\n",
    "\n",
    "# https://www.thetruthaboutrealty.com/real-estate-lot-types/\n",
    "# above website describe the common lot configurations\n",
    "\n",
    "# from source above, \"Lot Config\" values are interpreted as follow:\n",
    "### the \"Inside\" lot is surrounded on all 3 sides by houses and single frontage to street - no alley possible\n",
    "### the \"Corner\" lot is surrounded on 2 adjacent sides by houses and double frontage to street corner - no alley possible\n",
    "### the \"CulDSac\" lot sits at a dead-end street, with houses on either sides, possible view/access from the back (alley?)\n",
    "### the \"FR2\" lot has 2 frontages yet is not a \"Corner\" lot\n",
    "###### possible frontages on opp sides, or frontages on adj sides but not facing a street corner\n",
    "###### not clear if there is an alley\n",
    "### the \"FR3\" lot has 3 frontages, most likely of all the lots to have an alley attached"
   ]
  },
  {
   "cell_type": "code",
   "execution_count": 31,
   "metadata": {},
   "outputs": [
    {
     "data": {
      "text/plain": [
       "Inside     1377\n",
       "Corner      334\n",
       "CulDSac     131\n",
       "FR2          60\n",
       "FR3           9\n",
       "Name: Lot Config, dtype: int64"
      ]
     },
     "execution_count": 31,
     "metadata": {},
     "output_type": "execute_result"
    }
   ],
   "source": [
    "mask = df_train[\"Alley\"].isnull() # filter for no alleys\n",
    "df_train[mask][\"Lot Config\"].value_counts() # make-up of \"Lot Config\" for no alleys"
   ]
  },
  {
   "cell_type": "code",
   "execution_count": 32,
   "metadata": {},
   "outputs": [
    {
     "data": {
      "text/plain": [
       "Lot Config  Alley\n",
       "Corner      Grvl      9\n",
       "            Pave      5\n",
       "Inside      Grvl     76\n",
       "            Pave     50\n",
       "Name: Alley, dtype: int64"
      ]
     },
     "execution_count": 32,
     "metadata": {},
     "output_type": "execute_result"
    }
   ],
   "source": [
    "df_train.groupby(\"Lot Config\")[\"Alley\"].value_counts() # make-up of type of alleys by \"Lot Config\""
   ]
  },
  {
   "cell_type": "code",
   "execution_count": 33,
   "metadata": {},
   "outputs": [
    {
     "data": {
      "text/plain": [
       "['Alley']"
      ]
     },
     "execution_count": 33,
     "metadata": {},
     "output_type": "execute_result"
    }
   ],
   "source": [
    "# there is just not enough data and a clear pattern to deduce missing values\n",
    "# we would be reaching to deduce type of \"Alley\" (if any) for 1911 incomplete rows based on 140 rows of recorded data\n",
    "# especially when there is no observed \"NA\" data for no alleys\n",
    "\n",
    "# however, there are too many rows of data to drop\n",
    "# we can proceed by ignoring the item non-response and using all other data\n",
    "# in this case, \"Lot Config\" can be a good stand-in variable to account for the property surrounding condition\n",
    "\n",
    "ignore_item_nr = [\"Alley\"] # keep a record of columns to disregard\n",
    "ignore_item_nr"
   ]
  },
  {
   "cell_type": "code",
   "execution_count": 34,
   "metadata": {},
   "outputs": [],
   "source": [
    "# investigate missing values in \"Fence\""
   ]
  },
  {
   "cell_type": "code",
   "execution_count": 35,
   "metadata": {},
   "outputs": [
    {
     "data": {
      "text/plain": [
       "MnPrv    227\n",
       "GdPrv     83\n",
       "GdWo      80\n",
       "MnWw      10\n",
       "Name: Fence, dtype: int64"
      ]
     },
     "execution_count": 35,
     "metadata": {},
     "output_type": "execute_result"
    }
   ],
   "source": [
    "df_train[\"Fence\"].value_counts() # \"Fence\" measures ordinal level of privacy"
   ]
  },
  {
   "cell_type": "code",
   "execution_count": 36,
   "metadata": {},
   "outputs": [],
   "source": [
    "# similar to \"Alley\", there is no observed \"NA\" data for no fences installed\n",
    "# unlike \"Alley\", it is highly unlikely that there are no fences between properties\n",
    "\n",
    "# for the majority of properties with neighbouring adjacent lots\n",
    "# it would require both (or all three) neighbours to decide on not having a fence between their properties\n",
    "# as such it is improbable that there are no fences between property\n",
    "# and we can choose to ignore the absence of \"NA\" value in \"Fence\"\n",
    "\n",
    "# referring to the data dict, all other values are present\n",
    "# since all other values are present, we can predict for \"Fence\" using Stochastic Regression Imputation"
   ]
  },
  {
   "cell_type": "code",
   "execution_count": 37,
   "metadata": {},
   "outputs": [],
   "source": [
    "# to predict \"Fence\", we can convert \"Fence\" to a dummy variable\n",
    "# since \"Fence\" is ordinal, we shall create a new col \"Fence_Dummy\" and rank the values\n",
    "# create dict for ranking:\n",
    "dict_fence = {\"GdPrv\": 4,\n",
    "             \"MnPrv\": 3,\n",
    "             \"GdWo\": 2,\n",
    "             \"MnWw\": 1,\n",
    "             \"NA\": 0} # ranking based off data dict"
   ]
  },
  {
   "cell_type": "code",
   "execution_count": 38,
   "metadata": {},
   "outputs": [],
   "source": [
    "df_train[\"Fence_Dummy\"] = df_train[\"Fence\"].map(dict_fence)"
   ]
  },
  {
   "cell_type": "code",
   "execution_count": 39,
   "metadata": {},
   "outputs": [
    {
     "data": {
      "text/plain": [
       "3.0    227\n",
       "4.0     83\n",
       "2.0     80\n",
       "1.0     10\n",
       "Name: Fence_Dummy, dtype: int64"
      ]
     },
     "execution_count": 39,
     "metadata": {},
     "output_type": "execute_result"
    }
   ],
   "source": [
    "df_train[\"Fence_Dummy\"].value_counts() # verify that dummies have been mapped"
   ]
  },
  {
   "cell_type": "code",
   "execution_count": 40,
   "metadata": {},
   "outputs": [],
   "source": [
    "# to help decide on features that can help predict \"Fence\"\n",
    "mask = df_train[\"Fence_Dummy\"].isnull() # find all null values in \"Fence_Dummy\"\n",
    "df_train_fence = df_train[~mask] # filter out all null values in \"Fence_Dummy\" and reassign as training set\n",
    "df_train_misfence = df_train[mask] # filter for all null values in \"Fence_Dummy\" and reassign as test set"
   ]
  },
  {
   "cell_type": "code",
   "execution_count": 41,
   "metadata": {},
   "outputs": [
    {
     "data": {
      "text/plain": [
       "(400, 82)"
      ]
     },
     "execution_count": 41,
     "metadata": {},
     "output_type": "execute_result"
    }
   ],
   "source": [
    "df_train_fence.shape"
   ]
  },
  {
   "cell_type": "code",
   "execution_count": 42,
   "metadata": {},
   "outputs": [
    {
     "data": {
      "text/plain": [
       "(1651, 82)"
      ]
     },
     "execution_count": 42,
     "metadata": {},
     "output_type": "execute_result"
    }
   ],
   "source": [
    "df_train_misfence.shape"
   ]
  },
  {
   "cell_type": "code",
   "execution_count": 43,
   "metadata": {},
   "outputs": [
    {
     "data": {
      "text/plain": [
       "(308, 40)"
      ]
     },
     "execution_count": 43,
     "metadata": {},
     "output_type": "execute_result"
    }
   ],
   "source": [
    "df_train_fence = df_train_fence._get_numeric_data().dropna() # drop all rows with NaN\n",
    "df_train_fence.shape"
   ]
  },
  {
   "cell_type": "code",
   "execution_count": 44,
   "metadata": {},
   "outputs": [],
   "source": [
    "# drop \"Fence_Dummy\" since they are all null values\n",
    "df_train_misfence = df_train_misfence._get_numeric_data().drop([\"Fence_Dummy\"], axis=1)"
   ]
  },
  {
   "cell_type": "code",
   "execution_count": 45,
   "metadata": {},
   "outputs": [
    {
     "data": {
      "text/plain": [
       "(1288, 39)"
      ]
     },
     "execution_count": 45,
     "metadata": {},
     "output_type": "execute_result"
    }
   ],
   "source": [
    "df_train_misfence = df_train_misfence._get_numeric_data().dropna() # drop all rows with NaN\n",
    "df_train_misfence.shape"
   ]
  },
  {
   "cell_type": "code",
   "execution_count": 46,
   "metadata": {},
   "outputs": [
    {
     "data": {
      "text/plain": [
       "Fence_Dummy        1.000000\n",
       "Garage Cars        0.193277\n",
       "Full Bath          0.192641\n",
       "Garage Area        0.192415\n",
       "Overall Qual       0.177388\n",
       "Gr Liv Area        0.175632\n",
       "TotRms AbvGrd      0.172656\n",
       "PID                0.169453\n",
       "SalePrice          0.167432\n",
       "Pool Area          0.167369\n",
       "2nd Flr SF         0.144306\n",
       "Wood Deck SF       0.135889\n",
       "3Ssn Porch         0.134018\n",
       "Year Remod/Add     0.132882\n",
       "Fireplaces         0.123933\n",
       "MS SubClass        0.110724\n",
       "Garage Yr Blt      0.108681\n",
       "Bedroom AbvGr      0.108193\n",
       "Bsmt Unf SF        0.099701\n",
       "Half Bath          0.075227\n",
       "Bsmt Half Bath     0.074941\n",
       "BsmtFin SF 1       0.072179\n",
       "1st Flr SF         0.068305\n",
       "Open Porch SF      0.067520\n",
       "Lot Area           0.067288\n",
       "Total Bsmt SF      0.038683\n",
       "Kitchen AbvGr      0.038479\n",
       "Low Qual Fin SF    0.037968\n",
       "Yr Sold            0.036170\n",
       "Enclosed Porch     0.035848\n",
       "Mo Sold            0.034746\n",
       "BsmtFin SF 2       0.034735\n",
       "Year Built         0.027392\n",
       "Misc Val           0.023572\n",
       "Lot Frontage       0.018991\n",
       "Bsmt Full Bath     0.017884\n",
       "Mas Vnr Area       0.015677\n",
       "Id                 0.014971\n",
       "Overall Cond       0.011974\n",
       "Screen Porch       0.001252\n",
       "Name: Fence_Dummy, dtype: float64"
      ]
     },
     "execution_count": 46,
     "metadata": {},
     "output_type": "execute_result"
    }
   ],
   "source": [
    "abs(df_train_fence.corr()[\"Fence_Dummy\"]).sort_values(ascending=False) # finding greatest corr"
   ]
  },
  {
   "cell_type": "code",
   "execution_count": 47,
   "metadata": {},
   "outputs": [],
   "source": [
    "# no stand-out features with especially high correlation\n",
    "# since there are likely many variables that do not predict for \"Fence\" well, we shall predict with a lasso algo"
   ]
  },
  {
   "cell_type": "code",
   "execution_count": 48,
   "metadata": {},
   "outputs": [],
   "source": [
    "features = [feat for feat in df_train_fence._get_numeric_data().columns if feat != \"Fence_Dummy\"] # exclude target\n",
    "X_fence = df_train_fence[features] # create features matrix\n",
    "y_fence = df_train_fence[\"Fence_Dummy\"] # create target vector to predict\n",
    "X_misfence = df_train_misfence[features]"
   ]
  },
  {
   "cell_type": "code",
   "execution_count": 49,
   "metadata": {},
   "outputs": [],
   "source": [
    "# just for predictive purposes, no train-test split\n",
    "# any variance in the regression model can help contribute also to the noise to prevent imputation that is too deterministic"
   ]
  },
  {
   "cell_type": "code",
   "execution_count": 50,
   "metadata": {},
   "outputs": [],
   "source": [
    "#scale\n",
    "ss_fence = StandardScaler()\n",
    "\n",
    "# fit\n",
    "ss_fence.fit(X_fence) # only fit once, ensure same scaler is used\n",
    "\n",
    "# transform\n",
    "X_fence_ss = ss_fence.transform(X_fence)\n",
    "X_misfence_ss = ss_fence.transform(X_misfence)"
   ]
  },
  {
   "cell_type": "code",
   "execution_count": 51,
   "metadata": {},
   "outputs": [],
   "source": [
    "lasso = LassoCV(n_alphas=200, random_state=42, cv=5)"
   ]
  },
  {
   "cell_type": "code",
   "execution_count": 52,
   "metadata": {},
   "outputs": [
    {
     "data": {
      "text/plain": [
       "LassoCV(cv=5, n_alphas=200, random_state=42)"
      ]
     },
     "execution_count": 52,
     "metadata": {},
     "output_type": "execute_result"
    }
   ],
   "source": [
    "lasso.fit(X_fence_ss, y_fence)"
   ]
  },
  {
   "cell_type": "code",
   "execution_count": 53,
   "metadata": {},
   "outputs": [
    {
     "data": {
      "text/plain": [
       "0.16301407087353248"
      ]
     },
     "execution_count": 53,
     "metadata": {},
     "output_type": "execute_result"
    }
   ],
   "source": [
    "lasso.score(X_fence_ss, y_fence) # model is performing poorly"
   ]
  },
  {
   "cell_type": "code",
   "execution_count": 54,
   "metadata": {},
   "outputs": [],
   "source": [
    "predictions = lasso.predict(X_misfence_ss) # predict \"Fence_Dummy\""
   ]
  },
  {
   "cell_type": "code",
   "execution_count": 55,
   "metadata": {},
   "outputs": [
    {
     "data": {
      "text/plain": [
       "count    1288.000000\n",
       "mean        3.110074\n",
       "std         0.261597\n",
       "min         1.291073\n",
       "25%         2.935146\n",
       "50%         3.119371\n",
       "75%         3.285814\n",
       "max         3.892327\n",
       "dtype: float64"
      ]
     },
     "execution_count": 55,
     "metadata": {},
     "output_type": "execute_result"
    }
   ],
   "source": [
    "pd.Series(predictions).describe()"
   ]
  },
  {
   "cell_type": "code",
   "execution_count": 56,
   "metadata": {},
   "outputs": [],
   "source": [
    "# let's add up to 1 std worth of noise\n",
    "predictions = pd.Series(predictions).map(lambda x: x+np.random.normal(loc=0, scale=np.std(predictions), size=1))"
   ]
  },
  {
   "cell_type": "code",
   "execution_count": 57,
   "metadata": {},
   "outputs": [],
   "source": [
    "pred_dummy = []\n",
    "for p in predictions:\n",
    "    pred_dummy.append(round(p[0], 0)) # round predictions to dummy variables"
   ]
  },
  {
   "cell_type": "code",
   "execution_count": 58,
   "metadata": {},
   "outputs": [
    {
     "name": "stdout",
     "output_type": "stream",
     "text": [
      "1288\n",
      "1288\n"
     ]
    }
   ],
   "source": [
    "print(len(pred_dummy))\n",
    "print(len(X_misfence)) # ensure same length"
   ]
  },
  {
   "cell_type": "code",
   "execution_count": 59,
   "metadata": {},
   "outputs": [],
   "source": [
    "dict_fence_pred = {\"Id\": X_misfence[\"Id\"], \"Fence_Dummy\": pred_dummy} # create dict of predictions matched to \"Id\""
   ]
  },
  {
   "cell_type": "code",
   "execution_count": 60,
   "metadata": {},
   "outputs": [
    {
     "data": {
      "text/plain": [
       "3.0    1060\n",
       "4.0     182\n",
       "2.0      46\n",
       "Name: Fence_Dummy, dtype: int64"
      ]
     },
     "execution_count": 60,
     "metadata": {},
     "output_type": "execute_result"
    }
   ],
   "source": [
    "df_fence_pred = pd.DataFrame(dict_fence_pred) # create df from dict\n",
    "df_fence_pred[\"Fence_Dummy\"].value_counts() # predicted data to be added"
   ]
  },
  {
   "cell_type": "code",
   "execution_count": 61,
   "metadata": {},
   "outputs": [],
   "source": [
    "# there are no rank 5 for \"Fence_Dummy\"\n",
    "# demote all rank 5 to rank 4\n",
    "df_fence_pred[\"Fence_Dummy\"] = df_fence_pred[\"Fence_Dummy\"].map(lambda x: 4 if x>=5 else x)"
   ]
  },
  {
   "cell_type": "code",
   "execution_count": 62,
   "metadata": {},
   "outputs": [
    {
     "data": {
      "text/plain": [
       "3.0    1060\n",
       "4.0     182\n",
       "2.0      46\n",
       "Name: Fence_Dummy, dtype: int64"
      ]
     },
     "execution_count": 62,
     "metadata": {},
     "output_type": "execute_result"
    }
   ],
   "source": [
    "df_fence_pred[\"Fence_Dummy\"].value_counts() # check predicted data again"
   ]
  },
  {
   "cell_type": "code",
   "execution_count": 63,
   "metadata": {},
   "outputs": [
    {
     "data": {
      "text/plain": [
       "3.0    227\n",
       "4.0     83\n",
       "2.0     80\n",
       "1.0     10\n",
       "Name: Fence_Dummy, dtype: int64"
      ]
     },
     "execution_count": 63,
     "metadata": {},
     "output_type": "execute_result"
    }
   ],
   "source": [
    "df_train[\"Fence_Dummy\"].value_counts() # recall original dummies from \"Fence\""
   ]
  },
  {
   "cell_type": "code",
   "execution_count": 64,
   "metadata": {},
   "outputs": [
    {
     "data": {
      "text/html": [
       "<div>\n",
       "<style scoped>\n",
       "    .dataframe tbody tr th:only-of-type {\n",
       "        vertical-align: middle;\n",
       "    }\n",
       "\n",
       "    .dataframe tbody tr th {\n",
       "        vertical-align: top;\n",
       "    }\n",
       "\n",
       "    .dataframe thead th {\n",
       "        text-align: right;\n",
       "    }\n",
       "</style>\n",
       "<table border=\"1\" class=\"dataframe\">\n",
       "  <thead>\n",
       "    <tr style=\"text-align: right;\">\n",
       "      <th></th>\n",
       "      <th>Id</th>\n",
       "      <th>Fence_Dummy</th>\n",
       "    </tr>\n",
       "  </thead>\n",
       "  <tbody>\n",
       "    <tr>\n",
       "      <th>1</th>\n",
       "      <td>544</td>\n",
       "      <td>3.0</td>\n",
       "    </tr>\n",
       "    <tr>\n",
       "      <th>2</th>\n",
       "      <td>153</td>\n",
       "      <td>3.0</td>\n",
       "    </tr>\n",
       "    <tr>\n",
       "      <th>3</th>\n",
       "      <td>318</td>\n",
       "      <td>3.0</td>\n",
       "    </tr>\n",
       "  </tbody>\n",
       "</table>\n",
       "</div>"
      ],
      "text/plain": [
       "    Id  Fence_Dummy\n",
       "1  544          3.0\n",
       "2  153          3.0\n",
       "3  318          3.0"
      ]
     },
     "execution_count": 64,
     "metadata": {},
     "output_type": "execute_result"
    }
   ],
   "source": [
    "df_fence_pred.head(3)"
   ]
  },
  {
   "cell_type": "code",
   "execution_count": 65,
   "metadata": {},
   "outputs": [],
   "source": [
    "df_train = df_train.merge(df_fence_pred, how=\"left\", on=\"Id\")"
   ]
  },
  {
   "cell_type": "code",
   "execution_count": 66,
   "metadata": {},
   "outputs": [
    {
     "data": {
      "text/html": [
       "<div>\n",
       "<style scoped>\n",
       "    .dataframe tbody tr th:only-of-type {\n",
       "        vertical-align: middle;\n",
       "    }\n",
       "\n",
       "    .dataframe tbody tr th {\n",
       "        vertical-align: top;\n",
       "    }\n",
       "\n",
       "    .dataframe thead th {\n",
       "        text-align: right;\n",
       "    }\n",
       "</style>\n",
       "<table border=\"1\" class=\"dataframe\">\n",
       "  <thead>\n",
       "    <tr style=\"text-align: right;\">\n",
       "      <th></th>\n",
       "      <th>Id</th>\n",
       "      <th>PID</th>\n",
       "      <th>MS SubClass</th>\n",
       "      <th>MS Zoning</th>\n",
       "      <th>Lot Frontage</th>\n",
       "      <th>Lot Area</th>\n",
       "      <th>Street</th>\n",
       "      <th>Alley</th>\n",
       "      <th>Lot Shape</th>\n",
       "      <th>Land Contour</th>\n",
       "      <th>...</th>\n",
       "      <th>Pool QC</th>\n",
       "      <th>Fence</th>\n",
       "      <th>Misc Feature</th>\n",
       "      <th>Misc Val</th>\n",
       "      <th>Mo Sold</th>\n",
       "      <th>Yr Sold</th>\n",
       "      <th>Sale Type</th>\n",
       "      <th>SalePrice</th>\n",
       "      <th>Fence_Dummy_x</th>\n",
       "      <th>Fence_Dummy_y</th>\n",
       "    </tr>\n",
       "  </thead>\n",
       "  <tbody>\n",
       "    <tr>\n",
       "      <th>0</th>\n",
       "      <td>109</td>\n",
       "      <td>533352170</td>\n",
       "      <td>60</td>\n",
       "      <td>RL</td>\n",
       "      <td>NaN</td>\n",
       "      <td>13517</td>\n",
       "      <td>Pave</td>\n",
       "      <td>NaN</td>\n",
       "      <td>IR1</td>\n",
       "      <td>Lvl</td>\n",
       "      <td>...</td>\n",
       "      <td>NA</td>\n",
       "      <td>NaN</td>\n",
       "      <td>NA</td>\n",
       "      <td>0</td>\n",
       "      <td>3</td>\n",
       "      <td>2010</td>\n",
       "      <td>WD</td>\n",
       "      <td>130500</td>\n",
       "      <td>NaN</td>\n",
       "      <td>NaN</td>\n",
       "    </tr>\n",
       "    <tr>\n",
       "      <th>1</th>\n",
       "      <td>544</td>\n",
       "      <td>531379050</td>\n",
       "      <td>60</td>\n",
       "      <td>RL</td>\n",
       "      <td>43.0</td>\n",
       "      <td>11492</td>\n",
       "      <td>Pave</td>\n",
       "      <td>NaN</td>\n",
       "      <td>IR1</td>\n",
       "      <td>Lvl</td>\n",
       "      <td>...</td>\n",
       "      <td>NA</td>\n",
       "      <td>NaN</td>\n",
       "      <td>NA</td>\n",
       "      <td>0</td>\n",
       "      <td>4</td>\n",
       "      <td>2009</td>\n",
       "      <td>WD</td>\n",
       "      <td>220000</td>\n",
       "      <td>NaN</td>\n",
       "      <td>3.0</td>\n",
       "    </tr>\n",
       "    <tr>\n",
       "      <th>2</th>\n",
       "      <td>153</td>\n",
       "      <td>535304180</td>\n",
       "      <td>20</td>\n",
       "      <td>RL</td>\n",
       "      <td>68.0</td>\n",
       "      <td>7922</td>\n",
       "      <td>Pave</td>\n",
       "      <td>NaN</td>\n",
       "      <td>Reg</td>\n",
       "      <td>Lvl</td>\n",
       "      <td>...</td>\n",
       "      <td>NA</td>\n",
       "      <td>NaN</td>\n",
       "      <td>NA</td>\n",
       "      <td>0</td>\n",
       "      <td>1</td>\n",
       "      <td>2010</td>\n",
       "      <td>WD</td>\n",
       "      <td>109000</td>\n",
       "      <td>NaN</td>\n",
       "      <td>3.0</td>\n",
       "    </tr>\n",
       "  </tbody>\n",
       "</table>\n",
       "<p>3 rows × 83 columns</p>\n",
       "</div>"
      ],
      "text/plain": [
       "    Id        PID  MS SubClass MS Zoning  Lot Frontage  Lot Area Street Alley  \\\n",
       "0  109  533352170           60        RL           NaN     13517   Pave   NaN   \n",
       "1  544  531379050           60        RL          43.0     11492   Pave   NaN   \n",
       "2  153  535304180           20        RL          68.0      7922   Pave   NaN   \n",
       "\n",
       "  Lot Shape Land Contour  ... Pool QC Fence Misc Feature Misc Val Mo Sold  \\\n",
       "0       IR1          Lvl  ...      NA   NaN           NA        0       3   \n",
       "1       IR1          Lvl  ...      NA   NaN           NA        0       4   \n",
       "2       Reg          Lvl  ...      NA   NaN           NA        0       1   \n",
       "\n",
       "  Yr Sold Sale Type SalePrice  Fence_Dummy_x  Fence_Dummy_y  \n",
       "0    2010       WD     130500            NaN            NaN  \n",
       "1    2009       WD     220000            NaN            3.0  \n",
       "2    2010       WD     109000            NaN            3.0  \n",
       "\n",
       "[3 rows x 83 columns]"
      ]
     },
     "execution_count": 66,
     "metadata": {},
     "output_type": "execute_result"
    }
   ],
   "source": [
    "df_train.head(3)"
   ]
  },
  {
   "cell_type": "code",
   "execution_count": 67,
   "metadata": {},
   "outputs": [
    {
     "data": {
      "text/plain": [
       "3.0    227\n",
       "4.0     83\n",
       "2.0     80\n",
       "1.0     10\n",
       "Name: Fence_Dummy_x, dtype: int64"
      ]
     },
     "execution_count": 67,
     "metadata": {},
     "output_type": "execute_result"
    }
   ],
   "source": [
    "df_train[\"Fence_Dummy_x\"].value_counts()"
   ]
  },
  {
   "cell_type": "code",
   "execution_count": 68,
   "metadata": {},
   "outputs": [
    {
     "data": {
      "text/plain": [
       "3.0    1060\n",
       "4.0     182\n",
       "2.0      46\n",
       "Name: Fence_Dummy_y, dtype: int64"
      ]
     },
     "execution_count": 68,
     "metadata": {},
     "output_type": "execute_result"
    }
   ],
   "source": [
    "df_train[\"Fence_Dummy_y\"].value_counts()"
   ]
  },
  {
   "cell_type": "code",
   "execution_count": 69,
   "metadata": {},
   "outputs": [],
   "source": [
    "df_train[\"Fence_Dummy\"] = df_train[\"Fence_Dummy_x\"].fillna(df_train[\"Fence_Dummy_y\"])"
   ]
  },
  {
   "cell_type": "code",
   "execution_count": 70,
   "metadata": {},
   "outputs": [
    {
     "data": {
      "text/plain": [
       "(2051, 84)"
      ]
     },
     "execution_count": 70,
     "metadata": {},
     "output_type": "execute_result"
    }
   ],
   "source": [
    "df_train.shape"
   ]
  },
  {
   "cell_type": "code",
   "execution_count": 71,
   "metadata": {},
   "outputs": [
    {
     "data": {
      "text/plain": [
       "3.0    1287\n",
       "4.0     265\n",
       "2.0     126\n",
       "1.0      10\n",
       "Name: Fence_Dummy, dtype: int64"
      ]
     },
     "execution_count": 71,
     "metadata": {},
     "output_type": "execute_result"
    }
   ],
   "source": [
    "df_train[\"Fence_Dummy\"].value_counts() # verify change has been made"
   ]
  },
  {
   "cell_type": "code",
   "execution_count": 72,
   "metadata": {},
   "outputs": [],
   "source": [
    "# drop extra columns\n",
    "df_train.drop([\"Fence_Dummy_x\", \"Fence_Dummy_y\"], axis=1, inplace=True)"
   ]
  },
  {
   "cell_type": "code",
   "execution_count": 73,
   "metadata": {},
   "outputs": [
    {
     "data": {
      "text/html": [
       "<div>\n",
       "<style scoped>\n",
       "    .dataframe tbody tr th:only-of-type {\n",
       "        vertical-align: middle;\n",
       "    }\n",
       "\n",
       "    .dataframe tbody tr th {\n",
       "        vertical-align: top;\n",
       "    }\n",
       "\n",
       "    .dataframe thead th {\n",
       "        text-align: right;\n",
       "    }\n",
       "</style>\n",
       "<table border=\"1\" class=\"dataframe\">\n",
       "  <thead>\n",
       "    <tr style=\"text-align: right;\">\n",
       "      <th></th>\n",
       "      <th>Id</th>\n",
       "      <th>PID</th>\n",
       "      <th>MS SubClass</th>\n",
       "      <th>MS Zoning</th>\n",
       "      <th>Lot Frontage</th>\n",
       "      <th>Lot Area</th>\n",
       "      <th>Street</th>\n",
       "      <th>Alley</th>\n",
       "      <th>Lot Shape</th>\n",
       "      <th>Land Contour</th>\n",
       "      <th>...</th>\n",
       "      <th>Pool Area</th>\n",
       "      <th>Pool QC</th>\n",
       "      <th>Fence</th>\n",
       "      <th>Misc Feature</th>\n",
       "      <th>Misc Val</th>\n",
       "      <th>Mo Sold</th>\n",
       "      <th>Yr Sold</th>\n",
       "      <th>Sale Type</th>\n",
       "      <th>SalePrice</th>\n",
       "      <th>Fence_Dummy</th>\n",
       "    </tr>\n",
       "  </thead>\n",
       "  <tbody>\n",
       "    <tr>\n",
       "      <th>0</th>\n",
       "      <td>109</td>\n",
       "      <td>533352170</td>\n",
       "      <td>60</td>\n",
       "      <td>RL</td>\n",
       "      <td>NaN</td>\n",
       "      <td>13517</td>\n",
       "      <td>Pave</td>\n",
       "      <td>NaN</td>\n",
       "      <td>IR1</td>\n",
       "      <td>Lvl</td>\n",
       "      <td>...</td>\n",
       "      <td>0</td>\n",
       "      <td>NA</td>\n",
       "      <td>NaN</td>\n",
       "      <td>NA</td>\n",
       "      <td>0</td>\n",
       "      <td>3</td>\n",
       "      <td>2010</td>\n",
       "      <td>WD</td>\n",
       "      <td>130500</td>\n",
       "      <td>NaN</td>\n",
       "    </tr>\n",
       "  </tbody>\n",
       "</table>\n",
       "<p>1 rows × 82 columns</p>\n",
       "</div>"
      ],
      "text/plain": [
       "    Id        PID  MS SubClass MS Zoning  Lot Frontage  Lot Area Street Alley  \\\n",
       "0  109  533352170           60        RL           NaN     13517   Pave   NaN   \n",
       "\n",
       "  Lot Shape Land Contour  ... Pool Area Pool QC Fence Misc Feature Misc Val  \\\n",
       "0       IR1          Lvl  ...         0      NA   NaN           NA        0   \n",
       "\n",
       "  Mo Sold Yr Sold Sale Type  SalePrice  Fence_Dummy  \n",
       "0       3    2010       WD      130500          NaN  \n",
       "\n",
       "[1 rows x 82 columns]"
      ]
     },
     "execution_count": 73,
     "metadata": {},
     "output_type": "execute_result"
    }
   ],
   "source": [
    "df_train.head(1) # verify cols have been dropped"
   ]
  },
  {
   "cell_type": "code",
   "execution_count": 74,
   "metadata": {},
   "outputs": [
    {
     "data": {
      "text/plain": [
       "Alley             1911\n",
       "Fence             1651\n",
       "Fireplace Qu      1000\n",
       "Fence_Dummy        363\n",
       "Lot Frontage       330\n",
       "Garage Cond        114\n",
       "Garage Yr Blt      114\n",
       "Garage Finish      114\n",
       "Garage Qual        114\n",
       "Garage Type        113\n",
       "Bsmt Exposure       58\n",
       "BsmtFin Type 2      56\n",
       "Bsmt Cond           55\n",
       "BsmtFin Type 1      55\n",
       "Bsmt Qual           55\n",
       "Mas Vnr Type        22\n",
       "Mas Vnr Area        22\n",
       "Bsmt Full Bath       2\n",
       "Bsmt Half Bath       2\n",
       "BsmtFin SF 1         1\n",
       "Total Bsmt SF        1\n",
       "Bsmt Unf SF          1\n",
       "BsmtFin SF 2         1\n",
       "Garage Cars          1\n",
       "Garage Area          1\n",
       "Lot Area             0\n",
       "dtype: int64"
      ]
     },
     "execution_count": 74,
     "metadata": {},
     "output_type": "execute_result"
    }
   ],
   "source": [
    "# check on remaining null values\n",
    "df_train.isnull().sum().sort_values(ascending=False).head(26)"
   ]
  },
  {
   "cell_type": "code",
   "execution_count": 75,
   "metadata": {},
   "outputs": [],
   "source": [
    "# \"Fence_Dummy\" has 363 null values after imputation vs \"Fence\" with 1651 null values\n",
    "# going forward, we can ignore \"Fence\" data and simply make use of \"Fence_Dummy\"\n",
    "ignore_item_nr.append(\"Fence\")"
   ]
  },
  {
   "cell_type": "code",
   "execution_count": 76,
   "metadata": {},
   "outputs": [],
   "source": [
    "# investigate missing values in \"Fireplace Qu\""
   ]
  },
  {
   "cell_type": "code",
   "execution_count": 77,
   "metadata": {
    "scrolled": true
   },
   "outputs": [
    {
     "data": {
      "text/plain": [
       "Gd    523\n",
       "TA    407\n",
       "Fa     59\n",
       "Po     31\n",
       "Ex     31\n",
       "Name: Fireplace Qu, dtype: int64"
      ]
     },
     "execution_count": 77,
     "metadata": {},
     "output_type": "execute_result"
    }
   ],
   "source": [
    "df_train[\"Fireplace Qu\"].value_counts() # all \"Fireplace Qu\" ranks present except for \"NA\" that indicates no fireplaces"
   ]
  },
  {
   "cell_type": "code",
   "execution_count": 78,
   "metadata": {},
   "outputs": [
    {
     "data": {
      "text/plain": [
       "1000"
      ]
     },
     "execution_count": 78,
     "metadata": {},
     "output_type": "execute_result"
    }
   ],
   "source": [
    "df_train[\"Fireplace Qu\"].isnull().sum() # 1000 missing values in \"Fireplace Qu\""
   ]
  },
  {
   "cell_type": "code",
   "execution_count": 79,
   "metadata": {},
   "outputs": [
    {
     "data": {
      "text/plain": [
       "0    1000\n",
       "1     898\n",
       "2     146\n",
       "3       6\n",
       "4       1\n",
       "Name: Fireplaces, dtype: int64"
      ]
     },
     "execution_count": 79,
     "metadata": {},
     "output_type": "execute_result"
    }
   ],
   "source": [
    "df_train[\"Fireplaces\"].value_counts() # breakdown of \"Fireplaces\" count"
   ]
  },
  {
   "cell_type": "code",
   "execution_count": 80,
   "metadata": {},
   "outputs": [],
   "source": [
    "# there are no missing values in \"Fireplaces\"\n",
    "# there are 1000 recorded observations of properties with 0 fireplaces\n",
    "# we can therefore deduce that the 1000 missing values in \"Fireplace Qu\"\n",
    "# are most likely without data because there is no fireplace to check quality of"
   ]
  },
  {
   "cell_type": "code",
   "execution_count": 81,
   "metadata": {},
   "outputs": [],
   "source": [
    "# to replace all null values in \"Fireplace Qu\" with str(\"NA\")\n",
    "df_train[\"Fireplace Qu\"].fillna(\"NA\", inplace=True)"
   ]
  },
  {
   "cell_type": "code",
   "execution_count": 82,
   "metadata": {},
   "outputs": [
    {
     "data": {
      "text/plain": [
       "NA    1000\n",
       "Gd     523\n",
       "TA     407\n",
       "Fa      59\n",
       "Po      31\n",
       "Ex      31\n",
       "Name: Fireplace Qu, dtype: int64"
      ]
     },
     "execution_count": 82,
     "metadata": {},
     "output_type": "execute_result"
    }
   ],
   "source": [
    "df_train[\"Fireplace Qu\"].value_counts() # verify change has been made"
   ]
  },
  {
   "cell_type": "code",
   "execution_count": 83,
   "metadata": {},
   "outputs": [
    {
     "data": {
      "text/plain": [
       "Alley             1911\n",
       "Fence             1651\n",
       "Fence_Dummy        363\n",
       "Lot Frontage       330\n",
       "Garage Cond        114\n",
       "Garage Yr Blt      114\n",
       "Garage Finish      114\n",
       "Garage Qual        114\n",
       "Garage Type        113\n",
       "Bsmt Exposure       58\n",
       "BsmtFin Type 2      56\n",
       "BsmtFin Type 1      55\n",
       "Bsmt Qual           55\n",
       "Bsmt Cond           55\n",
       "Mas Vnr Type        22\n",
       "Mas Vnr Area        22\n",
       "Bsmt Half Bath       2\n",
       "Bsmt Full Bath       2\n",
       "BsmtFin SF 2         1\n",
       "Total Bsmt SF        1\n",
       "Bsmt Unf SF          1\n",
       "BsmtFin SF 1         1\n",
       "Garage Cars          1\n",
       "Garage Area          1\n",
       "MS Zoning            0\n",
       "Foundation           0\n",
       "dtype: int64"
      ]
     },
     "execution_count": 83,
     "metadata": {},
     "output_type": "execute_result"
    }
   ],
   "source": [
    "# check on remaining null values\n",
    "df_train.isnull().sum().sort_values(ascending=False).head(26)"
   ]
  },
  {
   "cell_type": "code",
   "execution_count": 84,
   "metadata": {},
   "outputs": [
    {
     "data": {
      "text/plain": [
       "['Alley', 'Fence']"
      ]
     },
     "execution_count": 84,
     "metadata": {},
     "output_type": "execute_result"
    }
   ],
   "source": [
    "ignore_item_nr\n",
    "# ignoring \"Alley\" and \"Fence\"\n",
    "# the biggest holes in data have been either deduced or inferred"
   ]
  },
  {
   "cell_type": "code",
   "execution_count": 85,
   "metadata": {},
   "outputs": [],
   "source": [
    "# we can begin building a predictive model\n",
    "# as a start, we shall drop all columns with missing values (after ignoring \"Alley\" and \"Fence\")\n",
    "# and build up our model from there"
   ]
  },
  {
   "cell_type": "code",
   "execution_count": 86,
   "metadata": {},
   "outputs": [
    {
     "data": {
      "text/plain": [
       "(2051, 82)"
      ]
     },
     "execution_count": 86,
     "metadata": {},
     "output_type": "execute_result"
    }
   ],
   "source": [
    "df_train.shape # final df shape"
   ]
  },
  {
   "cell_type": "code",
   "execution_count": 87,
   "metadata": {},
   "outputs": [
    {
     "data": {
      "text/plain": [
       "(2051, 80)"
      ]
     },
     "execution_count": 87,
     "metadata": {},
     "output_type": "execute_result"
    }
   ],
   "source": [
    "# reassign to new df after ignoring cols with big holes\n",
    "df_train_ig = df_train.drop(ignore_item_nr, axis=1)\n",
    "df_train_ig.shape # shape of new df"
   ]
  },
  {
   "cell_type": "code",
   "execution_count": 88,
   "metadata": {},
   "outputs": [
    {
     "data": {
      "text/plain": [
       "(1556, 80)"
      ]
     },
     "execution_count": 88,
     "metadata": {},
     "output_type": "execute_result"
    }
   ],
   "source": [
    "df_train_ig_drp = df_train_ig.dropna() # drop all rows with remaining missing values\n",
    "df_train_ig_drp.shape # resultant df"
   ]
  },
  {
   "cell_type": "markdown",
   "metadata": {},
   "source": [
    "## Negotiate Missing Data: Test Set"
   ]
  },
  {
   "cell_type": "code",
   "execution_count": 89,
   "metadata": {},
   "outputs": [],
   "source": [
    "# prep df_test the same way we prepped df_train"
   ]
  },
  {
   "cell_type": "code",
   "execution_count": 90,
   "metadata": {},
   "outputs": [
    {
     "name": "stdout",
     "output_type": "stream",
     "text": [
      "There are 875 rows with incomplete pool data out of a dataset of size 879.\n",
      "There are 4 rows with complete pool data out of a dataset of size 879.\n"
     ]
    }
   ],
   "source": [
    "check_pool(df_test)"
   ]
  },
  {
   "cell_type": "code",
   "execution_count": 91,
   "metadata": {},
   "outputs": [
    {
     "data": {
      "text/plain": [
       "0      875\n",
       "555      1\n",
       "512      1\n",
       "444      1\n",
       "144      1\n",
       "Name: Pool Area, dtype: int64"
      ]
     },
     "execution_count": 91,
     "metadata": {},
     "output_type": "execute_result"
    }
   ],
   "source": [
    "df_test[\"Pool Area\"].value_counts() # check for pool area of 0"
   ]
  },
  {
   "cell_type": "code",
   "execution_count": 92,
   "metadata": {},
   "outputs": [],
   "source": [
    "# as with df_train, the number of missing \"Pool QC\" values correspond to those properties with a pool area of 0\n",
    "# therefore, there are no pools to check quality of"
   ]
  },
  {
   "cell_type": "code",
   "execution_count": 93,
   "metadata": {},
   "outputs": [],
   "source": [
    "df_test.loc[:, \"Pool QC\"].fillna(\"NA\", inplace=True) # replace all NaN with str(\"NA\")"
   ]
  },
  {
   "cell_type": "code",
   "execution_count": 94,
   "metadata": {},
   "outputs": [
    {
     "data": {
      "text/plain": [
       "NA    875\n",
       "Ex      3\n",
       "TA      1\n",
       "Name: Pool QC, dtype: int64"
      ]
     },
     "execution_count": 94,
     "metadata": {},
     "output_type": "execute_result"
    }
   ],
   "source": [
    "df_test[\"Pool QC\"].value_counts() # verify change has been made"
   ]
  },
  {
   "cell_type": "code",
   "execution_count": 95,
   "metadata": {},
   "outputs": [
    {
     "name": "stdout",
     "output_type": "stream",
     "text": [
      "There are 841 rows with incomplete pool data out of a dataset of size 879.\n",
      "There are 38 rows with complete pool data out of a dataset of size 879.\n"
     ]
    }
   ],
   "source": [
    "check_misc(df_test)"
   ]
  },
  {
   "cell_type": "code",
   "execution_count": 96,
   "metadata": {},
   "outputs": [
    {
     "data": {
      "text/plain": [
       "0        841\n",
       "400        6\n",
       "500        5\n",
       "450        4\n",
       "700        3\n",
       "650        2\n",
       "600        2\n",
       "2000       2\n",
       "1500       2\n",
       "420        1\n",
       "15500      1\n",
       "1200       1\n",
       "350        1\n",
       "1400       1\n",
       "1000       1\n",
       "480        1\n",
       "490        1\n",
       "560        1\n",
       "620        1\n",
       "750        1\n",
       "1512       1\n",
       "Name: Misc Val, dtype: int64"
      ]
     },
     "execution_count": 96,
     "metadata": {},
     "output_type": "execute_result"
    }
   ],
   "source": [
    "df_test[\"Misc Val\"].value_counts() # check for misc valuation of 0"
   ]
  },
  {
   "cell_type": "code",
   "execution_count": 97,
   "metadata": {},
   "outputs": [],
   "source": [
    "# as with df_train, the number of missing \"Misc Feature\" values correspond to those properties with a misc valuation of 0\n",
    "# therefore, there are no misc features on property to provide a valuation of"
   ]
  },
  {
   "cell_type": "code",
   "execution_count": 98,
   "metadata": {},
   "outputs": [],
   "source": [
    "df_test.loc[:, \"Misc Feature\"].fillna(\"NA\", inplace=True) # replace all NaN with str(\"NA\")"
   ]
  },
  {
   "cell_type": "code",
   "execution_count": 99,
   "metadata": {},
   "outputs": [
    {
     "data": {
      "text/plain": [
       "NA      838\n",
       "Shed     39\n",
       "Gar2      1\n",
       "Othr      1\n",
       "Name: Misc Feature, dtype: int64"
      ]
     },
     "execution_count": 99,
     "metadata": {},
     "output_type": "execute_result"
    }
   ],
   "source": [
    "df_test[\"Misc Feature\"].value_counts() # verify change has been made"
   ]
  },
  {
   "cell_type": "code",
   "execution_count": 100,
   "metadata": {},
   "outputs": [
    {
     "data": {
      "text/plain": [
       "{'GdPrv': 4, 'MnPrv': 3, 'GdWo': 2, 'MnWw': 1, 'NA': 0}"
      ]
     },
     "execution_count": 100,
     "metadata": {},
     "output_type": "execute_result"
    }
   ],
   "source": [
    "# recall dummies for \"Fence\" variable\n",
    "dict_fence"
   ]
  },
  {
   "cell_type": "code",
   "execution_count": 101,
   "metadata": {},
   "outputs": [
    {
     "data": {
      "text/plain": [
       "MnPrv    103\n",
       "GdPrv     35\n",
       "GdWo      32\n",
       "MnWw       2\n",
       "Name: Fence, dtype: int64"
      ]
     },
     "execution_count": 101,
     "metadata": {},
     "output_type": "execute_result"
    }
   ],
   "source": [
    "df_test[\"Fence\"].value_counts() # breakdown of types of \"Fence\""
   ]
  },
  {
   "cell_type": "code",
   "execution_count": 102,
   "metadata": {},
   "outputs": [
    {
     "data": {
      "text/plain": [
       "707"
      ]
     },
     "execution_count": 102,
     "metadata": {},
     "output_type": "execute_result"
    }
   ],
   "source": [
    "df_test[\"Fence\"].isnull().sum()"
   ]
  },
  {
   "cell_type": "code",
   "execution_count": 103,
   "metadata": {},
   "outputs": [
    {
     "data": {
      "text/plain": [
       "879"
      ]
     },
     "execution_count": 103,
     "metadata": {},
     "output_type": "execute_result"
    }
   ],
   "source": [
    "len(df_test) # 707 missing \"Fence\" values out of dataset of size 879"
   ]
  },
  {
   "cell_type": "code",
   "execution_count": 104,
   "metadata": {},
   "outputs": [],
   "source": [
    "df_test[\"Fence_Dummy\"] = df_test[\"Fence\"].map(dict_fence)"
   ]
  },
  {
   "cell_type": "code",
   "execution_count": 105,
   "metadata": {},
   "outputs": [
    {
     "data": {
      "text/plain": [
       "3.0    103\n",
       "4.0     35\n",
       "2.0     32\n",
       "1.0      2\n",
       "Name: Fence_Dummy, dtype: int64"
      ]
     },
     "execution_count": 105,
     "metadata": {},
     "output_type": "execute_result"
    }
   ],
   "source": [
    "df_test[\"Fence_Dummy\"].value_counts() # verify that dummies have been mapped"
   ]
  },
  {
   "cell_type": "code",
   "execution_count": 106,
   "metadata": {},
   "outputs": [],
   "source": [
    "mask = df_test[\"Fence_Dummy\"].isnull() # find all null values in \"Fence_Dummy\"\n",
    "df_test_fence = df_test[~mask] # filter out all null values in \"Fence_Dummy\" and reassign as training set\n",
    "df_test_misfence = df_test[mask] # filter for all null values in \"Fence_Dummy\" and reassign as test set"
   ]
  },
  {
   "cell_type": "code",
   "execution_count": 107,
   "metadata": {},
   "outputs": [
    {
     "data": {
      "text/plain": [
       "(172, 81)"
      ]
     },
     "execution_count": 107,
     "metadata": {},
     "output_type": "execute_result"
    }
   ],
   "source": [
    "df_test_fence.shape"
   ]
  },
  {
   "cell_type": "code",
   "execution_count": 108,
   "metadata": {},
   "outputs": [
    {
     "data": {
      "text/plain": [
       "(707, 81)"
      ]
     },
     "execution_count": 108,
     "metadata": {},
     "output_type": "execute_result"
    }
   ],
   "source": [
    "df_test_misfence.shape"
   ]
  },
  {
   "cell_type": "code",
   "execution_count": 109,
   "metadata": {},
   "outputs": [
    {
     "data": {
      "text/plain": [
       "(137, 39)"
      ]
     },
     "execution_count": 109,
     "metadata": {},
     "output_type": "execute_result"
    }
   ],
   "source": [
    "df_test_fence = df_test_fence._get_numeric_data().dropna() # drop all rows with NaN\n",
    "df_test_fence.shape"
   ]
  },
  {
   "cell_type": "code",
   "execution_count": 110,
   "metadata": {},
   "outputs": [],
   "source": [
    "# drop \"Fence_Dummy\" since they are all null values\n",
    "df_test_misfence = df_test_misfence._get_numeric_data().drop([\"Fence_Dummy\"], axis=1)"
   ]
  },
  {
   "cell_type": "code",
   "execution_count": 111,
   "metadata": {},
   "outputs": [
    {
     "data": {
      "text/plain": [
       "(541, 38)"
      ]
     },
     "execution_count": 111,
     "metadata": {},
     "output_type": "execute_result"
    }
   ],
   "source": [
    "df_test_misfence = df_test_misfence._get_numeric_data().dropna() # drop all rows with NaN\n",
    "df_test_misfence.shape"
   ]
  },
  {
   "cell_type": "code",
   "execution_count": 112,
   "metadata": {},
   "outputs": [],
   "source": [
    "features = [feat for feat in df_test_fence._get_numeric_data().columns if feat != \"Fence_Dummy\"] # exclude target\n",
    "X_fence = df_test_fence[features] # create features matrix\n",
    "y_fence = df_test_fence[\"Fence_Dummy\"] # create target vector to predict\n",
    "X_misfence = df_test_misfence[features]"
   ]
  },
  {
   "cell_type": "code",
   "execution_count": 113,
   "metadata": {},
   "outputs": [],
   "source": [
    "# reuse same scaler obj\n",
    "ss_fence\n",
    "\n",
    "# transform\n",
    "X_fence_ss = ss_fence.transform(X_fence)\n",
    "X_misfence_ss = ss_fence.transform(X_misfence)"
   ]
  },
  {
   "cell_type": "code",
   "execution_count": 114,
   "metadata": {},
   "outputs": [],
   "source": [
    "lasso = LassoCV(n_alphas=200, random_state=42, cv=5)"
   ]
  },
  {
   "cell_type": "code",
   "execution_count": 115,
   "metadata": {},
   "outputs": [
    {
     "data": {
      "text/plain": [
       "LassoCV(cv=5, n_alphas=200, random_state=42)"
      ]
     },
     "execution_count": 115,
     "metadata": {},
     "output_type": "execute_result"
    }
   ],
   "source": [
    "lasso.fit(X_fence_ss, y_fence)"
   ]
  },
  {
   "cell_type": "code",
   "execution_count": 116,
   "metadata": {},
   "outputs": [
    {
     "data": {
      "text/plain": [
       "0.1380265220415685"
      ]
     },
     "execution_count": 116,
     "metadata": {},
     "output_type": "execute_result"
    }
   ],
   "source": [
    "lasso.score(X_fence_ss, y_fence) # model is performing poorly"
   ]
  },
  {
   "cell_type": "code",
   "execution_count": 117,
   "metadata": {},
   "outputs": [],
   "source": [
    "predictions = lasso.predict(X_misfence_ss) # predict \"Fence_Dummy\""
   ]
  },
  {
   "cell_type": "code",
   "execution_count": 118,
   "metadata": {},
   "outputs": [],
   "source": [
    "# let's add up to 1 std worth of noise\n",
    "predictions = pd.Series(predictions).map(lambda x: x+np.random.normal(loc=0, scale=np.std(predictions), size=1))"
   ]
  },
  {
   "cell_type": "code",
   "execution_count": 119,
   "metadata": {},
   "outputs": [],
   "source": [
    "pred_dummy = []\n",
    "for p in predictions:\n",
    "    pred_dummy.append(round(p[0], 0)) # round predictions to dummy variables"
   ]
  },
  {
   "cell_type": "code",
   "execution_count": 120,
   "metadata": {},
   "outputs": [
    {
     "name": "stdout",
     "output_type": "stream",
     "text": [
      "541\n",
      "541\n"
     ]
    }
   ],
   "source": [
    "print(len(pred_dummy))\n",
    "print(len(X_misfence)) # ensure same length"
   ]
  },
  {
   "cell_type": "code",
   "execution_count": 121,
   "metadata": {},
   "outputs": [],
   "source": [
    "dict_fence_pred = {\"Id\": X_misfence[\"Id\"], \"Fence_Dummy\": pred_dummy} # create dict of predictions matched to \"Id\""
   ]
  },
  {
   "cell_type": "code",
   "execution_count": 122,
   "metadata": {},
   "outputs": [
    {
     "data": {
      "text/plain": [
       "3.0    536\n",
       "4.0      5\n",
       "Name: Fence_Dummy, dtype: int64"
      ]
     },
     "execution_count": 122,
     "metadata": {},
     "output_type": "execute_result"
    }
   ],
   "source": [
    "df_fence_pred = pd.DataFrame(dict_fence_pred) # create df from dict\n",
    "df_fence_pred[\"Fence_Dummy\"].value_counts() # predicted data to be added"
   ]
  },
  {
   "cell_type": "code",
   "execution_count": 123,
   "metadata": {},
   "outputs": [],
   "source": [
    "# in case there are rank 5 which should not exist\n",
    "df_fence_pred[\"Fence_Dummy\"] = df_fence_pred[\"Fence_Dummy\"].map(lambda x: 4 if x>=5 else x)"
   ]
  },
  {
   "cell_type": "code",
   "execution_count": 124,
   "metadata": {},
   "outputs": [],
   "source": [
    "df_test = df_test.merge(df_fence_pred, how=\"left\", on=\"Id\") # merge both dfs"
   ]
  },
  {
   "cell_type": "code",
   "execution_count": 125,
   "metadata": {},
   "outputs": [
    {
     "data": {
      "text/html": [
       "<div>\n",
       "<style scoped>\n",
       "    .dataframe tbody tr th:only-of-type {\n",
       "        vertical-align: middle;\n",
       "    }\n",
       "\n",
       "    .dataframe tbody tr th {\n",
       "        vertical-align: top;\n",
       "    }\n",
       "\n",
       "    .dataframe thead th {\n",
       "        text-align: right;\n",
       "    }\n",
       "</style>\n",
       "<table border=\"1\" class=\"dataframe\">\n",
       "  <thead>\n",
       "    <tr style=\"text-align: right;\">\n",
       "      <th></th>\n",
       "      <th>Id</th>\n",
       "      <th>PID</th>\n",
       "      <th>MS SubClass</th>\n",
       "      <th>MS Zoning</th>\n",
       "      <th>Lot Frontage</th>\n",
       "      <th>Lot Area</th>\n",
       "      <th>Street</th>\n",
       "      <th>Alley</th>\n",
       "      <th>Lot Shape</th>\n",
       "      <th>Land Contour</th>\n",
       "      <th>...</th>\n",
       "      <th>Pool Area</th>\n",
       "      <th>Pool QC</th>\n",
       "      <th>Fence</th>\n",
       "      <th>Misc Feature</th>\n",
       "      <th>Misc Val</th>\n",
       "      <th>Mo Sold</th>\n",
       "      <th>Yr Sold</th>\n",
       "      <th>Sale Type</th>\n",
       "      <th>Fence_Dummy_x</th>\n",
       "      <th>Fence_Dummy_y</th>\n",
       "    </tr>\n",
       "  </thead>\n",
       "  <tbody>\n",
       "    <tr>\n",
       "      <th>0</th>\n",
       "      <td>2658</td>\n",
       "      <td>902301120</td>\n",
       "      <td>190</td>\n",
       "      <td>RM</td>\n",
       "      <td>69.0</td>\n",
       "      <td>9142</td>\n",
       "      <td>Pave</td>\n",
       "      <td>Grvl</td>\n",
       "      <td>Reg</td>\n",
       "      <td>Lvl</td>\n",
       "      <td>...</td>\n",
       "      <td>0</td>\n",
       "      <td>NA</td>\n",
       "      <td>NaN</td>\n",
       "      <td>NA</td>\n",
       "      <td>0</td>\n",
       "      <td>4</td>\n",
       "      <td>2006</td>\n",
       "      <td>WD</td>\n",
       "      <td>NaN</td>\n",
       "      <td>3.0</td>\n",
       "    </tr>\n",
       "    <tr>\n",
       "      <th>1</th>\n",
       "      <td>2718</td>\n",
       "      <td>905108090</td>\n",
       "      <td>90</td>\n",
       "      <td>RL</td>\n",
       "      <td>NaN</td>\n",
       "      <td>9662</td>\n",
       "      <td>Pave</td>\n",
       "      <td>NaN</td>\n",
       "      <td>IR1</td>\n",
       "      <td>Lvl</td>\n",
       "      <td>...</td>\n",
       "      <td>0</td>\n",
       "      <td>NA</td>\n",
       "      <td>NaN</td>\n",
       "      <td>NA</td>\n",
       "      <td>0</td>\n",
       "      <td>8</td>\n",
       "      <td>2006</td>\n",
       "      <td>WD</td>\n",
       "      <td>NaN</td>\n",
       "      <td>NaN</td>\n",
       "    </tr>\n",
       "    <tr>\n",
       "      <th>2</th>\n",
       "      <td>2414</td>\n",
       "      <td>528218130</td>\n",
       "      <td>60</td>\n",
       "      <td>RL</td>\n",
       "      <td>58.0</td>\n",
       "      <td>17104</td>\n",
       "      <td>Pave</td>\n",
       "      <td>NaN</td>\n",
       "      <td>IR1</td>\n",
       "      <td>Lvl</td>\n",
       "      <td>...</td>\n",
       "      <td>0</td>\n",
       "      <td>NA</td>\n",
       "      <td>NaN</td>\n",
       "      <td>NA</td>\n",
       "      <td>0</td>\n",
       "      <td>9</td>\n",
       "      <td>2006</td>\n",
       "      <td>New</td>\n",
       "      <td>NaN</td>\n",
       "      <td>3.0</td>\n",
       "    </tr>\n",
       "  </tbody>\n",
       "</table>\n",
       "<p>3 rows × 82 columns</p>\n",
       "</div>"
      ],
      "text/plain": [
       "     Id        PID  MS SubClass MS Zoning  Lot Frontage  Lot Area Street  \\\n",
       "0  2658  902301120          190        RM          69.0      9142   Pave   \n",
       "1  2718  905108090           90        RL           NaN      9662   Pave   \n",
       "2  2414  528218130           60        RL          58.0     17104   Pave   \n",
       "\n",
       "  Alley Lot Shape Land Contour  ... Pool Area Pool QC Fence Misc Feature  \\\n",
       "0  Grvl       Reg          Lvl  ...         0      NA   NaN           NA   \n",
       "1   NaN       IR1          Lvl  ...         0      NA   NaN           NA   \n",
       "2   NaN       IR1          Lvl  ...         0      NA   NaN           NA   \n",
       "\n",
       "  Misc Val Mo Sold Yr Sold Sale Type  Fence_Dummy_x  Fence_Dummy_y  \n",
       "0        0       4    2006       WD             NaN            3.0  \n",
       "1        0       8    2006       WD             NaN            NaN  \n",
       "2        0       9    2006       New            NaN            3.0  \n",
       "\n",
       "[3 rows x 82 columns]"
      ]
     },
     "execution_count": 125,
     "metadata": {},
     "output_type": "execute_result"
    }
   ],
   "source": [
    "df_test.head(3) # verify that merge was successful"
   ]
  },
  {
   "cell_type": "code",
   "execution_count": 126,
   "metadata": {},
   "outputs": [],
   "source": [
    "df_test[\"Fence_Dummy\"] = df_test[\"Fence_Dummy_x\"].fillna(df_test[\"Fence_Dummy_y\"]) # create new col to merge col values"
   ]
  },
  {
   "cell_type": "code",
   "execution_count": 127,
   "metadata": {},
   "outputs": [
    {
     "data": {
      "text/plain": [
       "3.0    639\n",
       "4.0     40\n",
       "2.0     32\n",
       "1.0      2\n",
       "Name: Fence_Dummy, dtype: int64"
      ]
     },
     "execution_count": 127,
     "metadata": {},
     "output_type": "execute_result"
    }
   ],
   "source": [
    "df_test[\"Fence_Dummy\"].value_counts() # verify change has been made"
   ]
  },
  {
   "cell_type": "code",
   "execution_count": 128,
   "metadata": {},
   "outputs": [],
   "source": [
    "# drop extra columns\n",
    "df_test.drop([\"Fence_Dummy_x\", \"Fence_Dummy_y\"], axis=1, inplace=True)"
   ]
  },
  {
   "cell_type": "code",
   "execution_count": 129,
   "metadata": {},
   "outputs": [
    {
     "data": {
      "text/html": [
       "<div>\n",
       "<style scoped>\n",
       "    .dataframe tbody tr th:only-of-type {\n",
       "        vertical-align: middle;\n",
       "    }\n",
       "\n",
       "    .dataframe tbody tr th {\n",
       "        vertical-align: top;\n",
       "    }\n",
       "\n",
       "    .dataframe thead th {\n",
       "        text-align: right;\n",
       "    }\n",
       "</style>\n",
       "<table border=\"1\" class=\"dataframe\">\n",
       "  <thead>\n",
       "    <tr style=\"text-align: right;\">\n",
       "      <th></th>\n",
       "      <th>Id</th>\n",
       "      <th>PID</th>\n",
       "      <th>MS SubClass</th>\n",
       "      <th>MS Zoning</th>\n",
       "      <th>Lot Frontage</th>\n",
       "      <th>Lot Area</th>\n",
       "      <th>Street</th>\n",
       "      <th>Alley</th>\n",
       "      <th>Lot Shape</th>\n",
       "      <th>Land Contour</th>\n",
       "      <th>...</th>\n",
       "      <th>Screen Porch</th>\n",
       "      <th>Pool Area</th>\n",
       "      <th>Pool QC</th>\n",
       "      <th>Fence</th>\n",
       "      <th>Misc Feature</th>\n",
       "      <th>Misc Val</th>\n",
       "      <th>Mo Sold</th>\n",
       "      <th>Yr Sold</th>\n",
       "      <th>Sale Type</th>\n",
       "      <th>Fence_Dummy</th>\n",
       "    </tr>\n",
       "  </thead>\n",
       "  <tbody>\n",
       "    <tr>\n",
       "      <th>0</th>\n",
       "      <td>2658</td>\n",
       "      <td>902301120</td>\n",
       "      <td>190</td>\n",
       "      <td>RM</td>\n",
       "      <td>69.0</td>\n",
       "      <td>9142</td>\n",
       "      <td>Pave</td>\n",
       "      <td>Grvl</td>\n",
       "      <td>Reg</td>\n",
       "      <td>Lvl</td>\n",
       "      <td>...</td>\n",
       "      <td>0</td>\n",
       "      <td>0</td>\n",
       "      <td>NA</td>\n",
       "      <td>NaN</td>\n",
       "      <td>NA</td>\n",
       "      <td>0</td>\n",
       "      <td>4</td>\n",
       "      <td>2006</td>\n",
       "      <td>WD</td>\n",
       "      <td>3.0</td>\n",
       "    </tr>\n",
       "  </tbody>\n",
       "</table>\n",
       "<p>1 rows × 81 columns</p>\n",
       "</div>"
      ],
      "text/plain": [
       "     Id        PID  MS SubClass MS Zoning  Lot Frontage  Lot Area Street  \\\n",
       "0  2658  902301120          190        RM          69.0      9142   Pave   \n",
       "\n",
       "  Alley Lot Shape Land Contour  ... Screen Porch Pool Area Pool QC Fence  \\\n",
       "0  Grvl       Reg          Lvl  ...            0         0      NA   NaN   \n",
       "\n",
       "  Misc Feature Misc Val Mo Sold Yr Sold  Sale Type  Fence_Dummy  \n",
       "0           NA        0       4    2006        WD           3.0  \n",
       "\n",
       "[1 rows x 81 columns]"
      ]
     },
     "execution_count": 129,
     "metadata": {},
     "output_type": "execute_result"
    }
   ],
   "source": [
    "df_test.head(1) # verify cols have been dropped"
   ]
  },
  {
   "cell_type": "code",
   "execution_count": 130,
   "metadata": {},
   "outputs": [
    {
     "data": {
      "text/plain": [
       "166"
      ]
     },
     "execution_count": 130,
     "metadata": {},
     "output_type": "execute_result"
    }
   ],
   "source": [
    "df_test[\"Fence_Dummy\"].isnull().sum() # remaining missing values in \"Fence_Dummy\""
   ]
  },
  {
   "cell_type": "code",
   "execution_count": 131,
   "metadata": {},
   "outputs": [
    {
     "data": {
      "text/plain": [
       "Gd    221\n",
       "TA    193\n",
       "Fa     16\n",
       "Po     15\n",
       "Ex     12\n",
       "Name: Fireplace Qu, dtype: int64"
      ]
     },
     "execution_count": 131,
     "metadata": {},
     "output_type": "execute_result"
    }
   ],
   "source": [
    "df_test[\"Fireplace Qu\"].value_counts() # all \"Fireplace Qu\" ranks present except for \"NA\" that indicates no fireplaces"
   ]
  },
  {
   "cell_type": "code",
   "execution_count": 132,
   "metadata": {},
   "outputs": [
    {
     "data": {
      "text/plain": [
       "422"
      ]
     },
     "execution_count": 132,
     "metadata": {},
     "output_type": "execute_result"
    }
   ],
   "source": [
    "df_test[\"Fireplace Qu\"].isnull().sum() # 422 missing values in \"Fireplace Qu\""
   ]
  },
  {
   "cell_type": "code",
   "execution_count": 133,
   "metadata": {},
   "outputs": [
    {
     "data": {
      "text/plain": [
       "0    422\n",
       "1    376\n",
       "2     75\n",
       "3      6\n",
       "Name: Fireplaces, dtype: int64"
      ]
     },
     "execution_count": 133,
     "metadata": {},
     "output_type": "execute_result"
    }
   ],
   "source": [
    "df_test[\"Fireplaces\"].value_counts() # breakdown of \"Fireplaces\" count"
   ]
  },
  {
   "cell_type": "code",
   "execution_count": 134,
   "metadata": {},
   "outputs": [],
   "source": [
    "# there are no missing values in \"Fireplaces\"\n",
    "# there are 422 recorded observations of properties with 0 fireplaces\n",
    "# we can therefore deduce that the 422 missing values in \"Fireplace Qu\"\n",
    "# are most likely without data because there is no fireplace to check quality of"
   ]
  },
  {
   "cell_type": "code",
   "execution_count": 135,
   "metadata": {},
   "outputs": [],
   "source": [
    "# to replace all null values in \"Fireplace Qu\" with str(\"NA\")\n",
    "df_test[\"Fireplace Qu\"].fillna(\"NA\", inplace=True)"
   ]
  },
  {
   "cell_type": "code",
   "execution_count": 136,
   "metadata": {},
   "outputs": [
    {
     "data": {
      "text/plain": [
       "NA    422\n",
       "Gd    221\n",
       "TA    193\n",
       "Fa     16\n",
       "Po     15\n",
       "Ex     12\n",
       "Name: Fireplace Qu, dtype: int64"
      ]
     },
     "execution_count": 136,
     "metadata": {},
     "output_type": "execute_result"
    }
   ],
   "source": [
    "df_test[\"Fireplace Qu\"].value_counts() # verify change has been made"
   ]
  },
  {
   "cell_type": "code",
   "execution_count": 137,
   "metadata": {},
   "outputs": [
    {
     "data": {
      "text/plain": [
       "['Alley', 'Fence']"
      ]
     },
     "execution_count": 137,
     "metadata": {},
     "output_type": "execute_result"
    }
   ],
   "source": [
    "# recall ignore_item_nr list of cols to ignore\n",
    "ignore_item_nr"
   ]
  },
  {
   "cell_type": "code",
   "execution_count": 138,
   "metadata": {},
   "outputs": [
    {
     "data": {
      "text/plain": [
       "(879, 81)"
      ]
     },
     "execution_count": 138,
     "metadata": {},
     "output_type": "execute_result"
    }
   ],
   "source": [
    "df_test.shape # final df shape"
   ]
  },
  {
   "cell_type": "code",
   "execution_count": 139,
   "metadata": {},
   "outputs": [
    {
     "data": {
      "text/plain": [
       "(879, 79)"
      ]
     },
     "execution_count": 139,
     "metadata": {},
     "output_type": "execute_result"
    }
   ],
   "source": [
    "# reassign to new df after ignoring cols with big holes\n",
    "df_test_ig = df_test.drop(ignore_item_nr, axis=1)\n",
    "df_test_ig.shape # shape of new df"
   ]
  },
  {
   "cell_type": "code",
   "execution_count": 140,
   "metadata": {},
   "outputs": [
    {
     "data": {
      "text/plain": [
       "(662, 79)"
      ]
     },
     "execution_count": 140,
     "metadata": {},
     "output_type": "execute_result"
    }
   ],
   "source": [
    "df_test_ig_drp = df_test_ig.dropna() # drop all rows with remaining missing values\n",
    "df_test_ig_drp.shape # resultant df"
   ]
  },
  {
   "cell_type": "markdown",
   "metadata": {},
   "source": [
    "## Build a Baseline Model: dummy everything"
   ]
  },
  {
   "cell_type": "code",
   "execution_count": 141,
   "metadata": {},
   "outputs": [
    {
     "name": "stdout",
     "output_type": "stream",
     "text": [
      "<class 'pandas.core.frame.DataFrame'>\n",
      "Int64Index: 1556 entries, 1 to 2050\n",
      "Data columns (total 80 columns):\n",
      " #   Column           Non-Null Count  Dtype  \n",
      "---  ------           --------------  -----  \n",
      " 0   Id               1556 non-null   int64  \n",
      " 1   PID              1556 non-null   int64  \n",
      " 2   MS SubClass      1556 non-null   int64  \n",
      " 3   MS Zoning        1556 non-null   object \n",
      " 4   Lot Frontage     1556 non-null   float64\n",
      " 5   Lot Area         1556 non-null   int64  \n",
      " 6   Street           1556 non-null   object \n",
      " 7   Lot Shape        1556 non-null   object \n",
      " 8   Land Contour     1556 non-null   object \n",
      " 9   Utilities        1556 non-null   object \n",
      " 10  Lot Config       1556 non-null   object \n",
      " 11  Land Slope       1556 non-null   object \n",
      " 12  Neighborhood     1556 non-null   object \n",
      " 13  Condition 1      1556 non-null   object \n",
      " 14  Condition 2      1556 non-null   object \n",
      " 15  Bldg Type        1556 non-null   object \n",
      " 16  House Style      1556 non-null   object \n",
      " 17  Overall Qual     1556 non-null   int64  \n",
      " 18  Overall Cond     1556 non-null   int64  \n",
      " 19  Year Built       1556 non-null   int64  \n",
      " 20  Year Remod/Add   1556 non-null   int64  \n",
      " 21  Roof Style       1556 non-null   object \n",
      " 22  Roof Matl        1556 non-null   object \n",
      " 23  Exterior 1st     1556 non-null   object \n",
      " 24  Exterior 2nd     1556 non-null   object \n",
      " 25  Mas Vnr Type     1556 non-null   object \n",
      " 26  Mas Vnr Area     1556 non-null   float64\n",
      " 27  Exter Qual       1556 non-null   object \n",
      " 28  Exter Cond       1556 non-null   object \n",
      " 29  Foundation       1556 non-null   object \n",
      " 30  Bsmt Qual        1556 non-null   object \n",
      " 31  Bsmt Cond        1556 non-null   object \n",
      " 32  Bsmt Exposure    1556 non-null   object \n",
      " 33  BsmtFin Type 1   1556 non-null   object \n",
      " 34  BsmtFin SF 1     1556 non-null   float64\n",
      " 35  BsmtFin Type 2   1556 non-null   object \n",
      " 36  BsmtFin SF 2     1556 non-null   float64\n",
      " 37  Bsmt Unf SF      1556 non-null   float64\n",
      " 38  Total Bsmt SF    1556 non-null   float64\n",
      " 39  Heating          1556 non-null   object \n",
      " 40  Heating QC       1556 non-null   object \n",
      " 41  Central Air      1556 non-null   object \n",
      " 42  Electrical       1556 non-null   object \n",
      " 43  1st Flr SF       1556 non-null   int64  \n",
      " 44  2nd Flr SF       1556 non-null   int64  \n",
      " 45  Low Qual Fin SF  1556 non-null   int64  \n",
      " 46  Gr Liv Area      1556 non-null   int64  \n",
      " 47  Bsmt Full Bath   1556 non-null   float64\n",
      " 48  Bsmt Half Bath   1556 non-null   float64\n",
      " 49  Full Bath        1556 non-null   int64  \n",
      " 50  Half Bath        1556 non-null   int64  \n",
      " 51  Bedroom AbvGr    1556 non-null   int64  \n",
      " 52  Kitchen AbvGr    1556 non-null   int64  \n",
      " 53  Kitchen Qual     1556 non-null   object \n",
      " 54  TotRms AbvGrd    1556 non-null   int64  \n",
      " 55  Functional       1556 non-null   object \n",
      " 56  Fireplaces       1556 non-null   int64  \n",
      " 57  Fireplace Qu     1556 non-null   object \n",
      " 58  Garage Type      1556 non-null   object \n",
      " 59  Garage Yr Blt    1556 non-null   float64\n",
      " 60  Garage Finish    1556 non-null   object \n",
      " 61  Garage Cars      1556 non-null   float64\n",
      " 62  Garage Area      1556 non-null   float64\n",
      " 63  Garage Qual      1556 non-null   object \n",
      " 64  Garage Cond      1556 non-null   object \n",
      " 65  Paved Drive      1556 non-null   object \n",
      " 66  Wood Deck SF     1556 non-null   int64  \n",
      " 67  Open Porch SF    1556 non-null   int64  \n",
      " 68  Enclosed Porch   1556 non-null   int64  \n",
      " 69  3Ssn Porch       1556 non-null   int64  \n",
      " 70  Screen Porch     1556 non-null   int64  \n",
      " 71  Pool Area        1556 non-null   int64  \n",
      " 72  Pool QC          1556 non-null   object \n",
      " 73  Misc Feature     1556 non-null   object \n",
      " 74  Misc Val         1556 non-null   int64  \n",
      " 75  Mo Sold          1556 non-null   int64  \n",
      " 76  Yr Sold          1556 non-null   int64  \n",
      " 77  Sale Type        1556 non-null   object \n",
      " 78  SalePrice        1556 non-null   int64  \n",
      " 79  Fence_Dummy      1556 non-null   float64\n",
      "dtypes: float64(12), int64(28), object(40)\n",
      "memory usage: 984.7+ KB\n"
     ]
    }
   ],
   "source": [
    "df_train_ig_drp.info()"
   ]
  },
  {
   "cell_type": "code",
   "execution_count": 142,
   "metadata": {},
   "outputs": [],
   "source": [
    "# there are many different types of information\n",
    "# worse still, most of this info consists of str objects even though they are ordinal according to the data dict\n",
    "# we can dummy all variables that are ordinal but not numeric\n",
    "# and use regression model to help us focus our attention on the more important variables"
   ]
  },
  {
   "cell_type": "code",
   "execution_count": 143,
   "metadata": {},
   "outputs": [
    {
     "name": "stdout",
     "output_type": "stream",
     "text": [
      "(2051, 80)\n",
      "(1556, 80)\n"
     ]
    }
   ],
   "source": [
    "# recall two resultant training sets with different extents of ignoring missing data\n",
    "print(df_train_ig.shape)\n",
    "print(df_train_ig_drp.shape)"
   ]
  },
  {
   "cell_type": "code",
   "execution_count": 144,
   "metadata": {},
   "outputs": [],
   "source": [
    "# use df_train_ig_drp that has no null values\n",
    "num_features = set(df_train_ig_drp._get_numeric_data().columns) # set of all numeric features\n",
    "all_features = set(df_train_ig_drp.columns) # set of all features\n",
    "str_features = all_features.difference(num_features) # set of all non-numeric features"
   ]
  },
  {
   "cell_type": "code",
   "execution_count": 145,
   "metadata": {},
   "outputs": [],
   "source": [
    "# create dummies of all non-numeric features\n",
    "# reassign to new df\n",
    "df_train_ig_drp_dumm = pd.get_dummies(df_train_ig_drp, columns=str_features, drop_first=True)"
   ]
  },
  {
   "cell_type": "code",
   "execution_count": 146,
   "metadata": {},
   "outputs": [],
   "source": [
    "features = [feat for feat in df_train_ig_drp_dumm._get_numeric_data().columns if feat != \"SalePrice\"] # exclude target\n",
    "X = df_train_ig_drp_dumm[features] # create features matrix\n",
    "y = df_train_ig_drp_dumm[\"SalePrice\"] # create target vector"
   ]
  },
  {
   "cell_type": "code",
   "execution_count": 147,
   "metadata": {},
   "outputs": [],
   "source": [
    "#train test split\n",
    "X_train, X_test, y_train, y_test = train_test_split(X, y, test_size=0.25, random_state=42)"
   ]
  },
  {
   "cell_type": "code",
   "execution_count": 148,
   "metadata": {},
   "outputs": [],
   "source": [
    "# scale\n",
    "ss = StandardScaler()\n",
    "\n",
    "# fit\n",
    "ss.fit(X_train)\n",
    "\n",
    "# transform\n",
    "X_train_ss = ss.transform(X_train)\n",
    "X_test_ss = ss.transform(X_test)"
   ]
  },
  {
   "cell_type": "code",
   "execution_count": 149,
   "metadata": {},
   "outputs": [],
   "source": [
    "# instantiate models\n",
    "ridge = RidgeCV(alphas=np.logspace(0,5,200))\n",
    "lasso = LassoCV(n_alphas=200)\n",
    "enet = ElasticNetCV(l1_ratio=np.linspace(0.001,1,50), n_alphas=200)"
   ]
  },
  {
   "cell_type": "code",
   "execution_count": 150,
   "metadata": {},
   "outputs": [
    {
     "name": "stdout",
     "output_type": "stream",
     "text": [
      "Ridge algorithm has a R^2 score of  0.8172303775028356\n",
      "Lasso algorithm has a R^2 score of  0.725400025334664\n",
      "ElasticNet algorithm has a R^2 score of  0.7391115888988717\n"
     ]
    }
   ],
   "source": [
    "# evaluate scores of all learning algos\n",
    "%%time\n",
    "ridge_scores = cross_val_score(ridge, X_train_ss, y_train, cv=5)\n",
    "lasso_scores = cross_val_score(lasso, X_train_ss, y_train, cv=5)\n",
    "enet_scores = cross_val_score(enet, X_train_ss, y_train, cv=5)\n",
    "print(\"Ridge algorithm has a R^2 score of \", np.mean(ridge_scores))\n",
    "print(\"Lasso algorithm has a R^2 score of \", np.mean(lasso_scores))\n",
    "print(\"ElasticNet algorithm has a R^2 score of \", np.mean(enet_scores))"
   ]
  },
  {
   "cell_type": "code",
   "execution_count": 151,
   "metadata": {},
   "outputs": [],
   "source": [
    "# from above, ridge algo performed the best with an R^2 score of 0.817"
   ]
  },
  {
   "cell_type": "code",
   "execution_count": 152,
   "metadata": {},
   "outputs": [],
   "source": [
    "ridge.fit(X_train_ss, y_train);"
   ]
  },
  {
   "cell_type": "code",
   "execution_count": 153,
   "metadata": {},
   "outputs": [
    {
     "data": {
      "text/plain": [
       "0.8955624414272607"
      ]
     },
     "execution_count": 153,
     "metadata": {},
     "output_type": "execute_result"
    }
   ],
   "source": [
    "ridge.score(X_train_ss, y_train)\n",
    "# notice ridge score is better than above CV\n",
    "# this is because this score is now based on 100% of training data on 100% of training target"
   ]
  },
  {
   "cell_type": "code",
   "execution_count": 154,
   "metadata": {},
   "outputs": [
    {
     "data": {
      "text/plain": [
       "0.8779416066369728"
      ]
     },
     "execution_count": 154,
     "metadata": {},
     "output_type": "execute_result"
    }
   ],
   "source": [
    "ridge.score(X_test_ss, y_test)\n",
    "# not a big drop when applying model to test set\n",
    "# R^2 score remains fairly stable\n",
    "# therefore model is generalising well on unseen data"
   ]
  },
  {
   "cell_type": "code",
   "execution_count": 155,
   "metadata": {},
   "outputs": [
    {
     "name": "stdout",
     "output_type": "stream",
     "text": [
      "The CV score on the training set is  0.878\n"
     ]
    }
   ],
   "source": [
    "print(\"The CV score on the training set is \", round(ridge.score(X_test_ss, y_test), 3))"
   ]
  },
  {
   "cell_type": "code",
   "execution_count": 156,
   "metadata": {},
   "outputs": [],
   "source": [
    "# since we are satisfied with the performance of the ridge regression model thus far\n",
    "# we shall test it on the true test set (df_test)"
   ]
  },
  {
   "cell_type": "code",
   "execution_count": 157,
   "metadata": {},
   "outputs": [
    {
     "name": "stdout",
     "output_type": "stream",
     "text": [
      "(879, 79)\n",
      "(662, 79)\n"
     ]
    }
   ],
   "source": [
    "# recall two resultant test sets with different extents of ignoring missing data\n",
    "print(df_test_ig.shape)\n",
    "print(df_test_ig_drp.shape)"
   ]
  },
  {
   "cell_type": "code",
   "execution_count": 162,
   "metadata": {
    "collapsed": true
   },
   "outputs": [
    {
     "data": {
      "text/plain": [
       "{'Bldg Type',\n",
       " 'Bsmt Cond',\n",
       " 'Bsmt Exposure',\n",
       " 'Bsmt Qual',\n",
       " 'BsmtFin Type 1',\n",
       " 'BsmtFin Type 2',\n",
       " 'Central Air',\n",
       " 'Condition 1',\n",
       " 'Condition 2',\n",
       " 'Electrical',\n",
       " 'Exter Cond',\n",
       " 'Exter Qual',\n",
       " 'Exterior 1st',\n",
       " 'Exterior 2nd',\n",
       " 'Fireplace Qu',\n",
       " 'Foundation',\n",
       " 'Functional',\n",
       " 'Garage Cond',\n",
       " 'Garage Finish',\n",
       " 'Garage Qual',\n",
       " 'Garage Type',\n",
       " 'Heating',\n",
       " 'Heating QC',\n",
       " 'House Style',\n",
       " 'Kitchen Qual',\n",
       " 'Land Contour',\n",
       " 'Land Slope',\n",
       " 'Lot Config',\n",
       " 'Lot Shape',\n",
       " 'MS Zoning',\n",
       " 'Mas Vnr Type',\n",
       " 'Misc Feature',\n",
       " 'Neighborhood',\n",
       " 'Paved Drive',\n",
       " 'Pool QC',\n",
       " 'Roof Matl',\n",
       " 'Roof Style',\n",
       " 'Sale Type',\n",
       " 'Street',\n",
       " 'Utilities'}"
      ]
     },
     "execution_count": 162,
     "metadata": {},
     "output_type": "execute_result"
    }
   ],
   "source": [
    "# recall str_features\n",
    "str_features"
   ]
  },
  {
   "cell_type": "code",
   "execution_count": 163,
   "metadata": {},
   "outputs": [],
   "source": [
    "# create dummies of all non-numeric features\n",
    "# reassign to new df\n",
    "df_test_ig_drp_dumm = pd.get_dummies(df_test_ig_drp, columns=str_features, drop_first=True)"
   ]
  },
  {
   "cell_type": "code",
   "execution_count": 165,
   "metadata": {},
   "outputs": [
    {
     "data": {
      "text/plain": [
       "Index(['Id', 'PID', 'MS SubClass', 'Lot Frontage', 'Lot Area', 'Overall Qual',\n",
       "       'Overall Cond', 'Year Built', 'Year Remod/Add', 'Mas Vnr Area',\n",
       "       ...\n",
       "       'Garage Type_CarPort', 'Garage Type_Detchd', 'Fireplace Qu_Fa',\n",
       "       'Fireplace Qu_Gd', 'Fireplace Qu_NA', 'Fireplace Qu_Po',\n",
       "       'Fireplace Qu_TA', 'Central Air_Y', 'Misc Feature_Othr',\n",
       "       'Misc Feature_Shed'],\n",
       "      dtype='object', length=220)"
      ]
     },
     "execution_count": 165,
     "metadata": {},
     "output_type": "execute_result"
    }
   ],
   "source": [
    "df_test_ig_drp_dumm.columns"
   ]
  },
  {
   "cell_type": "code",
   "execution_count": 166,
   "metadata": {},
   "outputs": [],
   "source": [
    "features = [feat for feat in df_test_ig_drp_dumm._get_numeric_data().columns] # get all numeric features\n",
    "X_true_test = df_test_ig_drp_dumm[features] # create design matrix for true X predictors "
   ]
  },
  {
   "cell_type": "code",
   "execution_count": 167,
   "metadata": {},
   "outputs": [
    {
     "ename": "ValueError",
     "evalue": "X has 220 features, but this StandardScaler is expecting 236 features as input.",
     "output_type": "error",
     "traceback": [
      "\u001b[1;31m---------------------------------------------------------------------------\u001b[0m",
      "\u001b[1;31mValueError\u001b[0m                                Traceback (most recent call last)",
      "\u001b[1;32m<ipython-input-167-052f2c8f01a5>\u001b[0m in \u001b[0;36m<module>\u001b[1;34m\u001b[0m\n\u001b[0;32m      2\u001b[0m \u001b[1;33m\u001b[0m\u001b[0m\n\u001b[0;32m      3\u001b[0m \u001b[1;31m# transform\u001b[0m\u001b[1;33m\u001b[0m\u001b[1;33m\u001b[0m\u001b[1;33m\u001b[0m\u001b[0m\n\u001b[1;32m----> 4\u001b[1;33m \u001b[0mX_true_test_ss\u001b[0m \u001b[1;33m=\u001b[0m \u001b[0mss\u001b[0m\u001b[1;33m.\u001b[0m\u001b[0mtransform\u001b[0m\u001b[1;33m(\u001b[0m\u001b[0mX_true_test\u001b[0m\u001b[1;33m)\u001b[0m\u001b[1;33m\u001b[0m\u001b[1;33m\u001b[0m\u001b[0m\n\u001b[0m",
      "\u001b[1;32m~\\anaconda3\\lib\\site-packages\\sklearn\\preprocessing\\_data.py\u001b[0m in \u001b[0;36mtransform\u001b[1;34m(self, X, copy)\u001b[0m\n\u001b[0;32m    789\u001b[0m \u001b[1;33m\u001b[0m\u001b[0m\n\u001b[0;32m    790\u001b[0m         \u001b[0mcopy\u001b[0m \u001b[1;33m=\u001b[0m \u001b[0mcopy\u001b[0m \u001b[1;32mif\u001b[0m \u001b[0mcopy\u001b[0m \u001b[1;32mis\u001b[0m \u001b[1;32mnot\u001b[0m \u001b[1;32mNone\u001b[0m \u001b[1;32melse\u001b[0m \u001b[0mself\u001b[0m\u001b[1;33m.\u001b[0m\u001b[0mcopy\u001b[0m\u001b[1;33m\u001b[0m\u001b[1;33m\u001b[0m\u001b[0m\n\u001b[1;32m--> 791\u001b[1;33m         X = self._validate_data(X, reset=False,\n\u001b[0m\u001b[0;32m    792\u001b[0m                                 \u001b[0maccept_sparse\u001b[0m\u001b[1;33m=\u001b[0m\u001b[1;34m'csr'\u001b[0m\u001b[1;33m,\u001b[0m \u001b[0mcopy\u001b[0m\u001b[1;33m=\u001b[0m\u001b[0mcopy\u001b[0m\u001b[1;33m,\u001b[0m\u001b[1;33m\u001b[0m\u001b[1;33m\u001b[0m\u001b[0m\n\u001b[0;32m    793\u001b[0m                                 \u001b[0mestimator\u001b[0m\u001b[1;33m=\u001b[0m\u001b[0mself\u001b[0m\u001b[1;33m,\u001b[0m \u001b[0mdtype\u001b[0m\u001b[1;33m=\u001b[0m\u001b[0mFLOAT_DTYPES\u001b[0m\u001b[1;33m,\u001b[0m\u001b[1;33m\u001b[0m\u001b[1;33m\u001b[0m\u001b[0m\n",
      "\u001b[1;32m~\\anaconda3\\lib\\site-packages\\sklearn\\base.py\u001b[0m in \u001b[0;36m_validate_data\u001b[1;34m(self, X, y, reset, validate_separately, **check_params)\u001b[0m\n\u001b[0;32m    434\u001b[0m \u001b[1;33m\u001b[0m\u001b[0m\n\u001b[0;32m    435\u001b[0m         \u001b[1;32mif\u001b[0m \u001b[0mcheck_params\u001b[0m\u001b[1;33m.\u001b[0m\u001b[0mget\u001b[0m\u001b[1;33m(\u001b[0m\u001b[1;34m'ensure_2d'\u001b[0m\u001b[1;33m,\u001b[0m \u001b[1;32mTrue\u001b[0m\u001b[1;33m)\u001b[0m\u001b[1;33m:\u001b[0m\u001b[1;33m\u001b[0m\u001b[1;33m\u001b[0m\u001b[0m\n\u001b[1;32m--> 436\u001b[1;33m             \u001b[0mself\u001b[0m\u001b[1;33m.\u001b[0m\u001b[0m_check_n_features\u001b[0m\u001b[1;33m(\u001b[0m\u001b[0mX\u001b[0m\u001b[1;33m,\u001b[0m \u001b[0mreset\u001b[0m\u001b[1;33m=\u001b[0m\u001b[0mreset\u001b[0m\u001b[1;33m)\u001b[0m\u001b[1;33m\u001b[0m\u001b[1;33m\u001b[0m\u001b[0m\n\u001b[0m\u001b[0;32m    437\u001b[0m \u001b[1;33m\u001b[0m\u001b[0m\n\u001b[0;32m    438\u001b[0m         \u001b[1;32mreturn\u001b[0m \u001b[0mout\u001b[0m\u001b[1;33m\u001b[0m\u001b[1;33m\u001b[0m\u001b[0m\n",
      "\u001b[1;32m~\\anaconda3\\lib\\site-packages\\sklearn\\base.py\u001b[0m in \u001b[0;36m_check_n_features\u001b[1;34m(self, X, reset)\u001b[0m\n\u001b[0;32m    375\u001b[0m                 )\n\u001b[0;32m    376\u001b[0m             \u001b[1;32mif\u001b[0m \u001b[0mn_features\u001b[0m \u001b[1;33m!=\u001b[0m \u001b[0mself\u001b[0m\u001b[1;33m.\u001b[0m\u001b[0mn_features_in_\u001b[0m\u001b[1;33m:\u001b[0m\u001b[1;33m\u001b[0m\u001b[1;33m\u001b[0m\u001b[0m\n\u001b[1;32m--> 377\u001b[1;33m                 raise ValueError(\n\u001b[0m\u001b[0;32m    378\u001b[0m                     \u001b[1;34m'X has {} features, but this {} is expecting {} features '\u001b[0m\u001b[1;33m\u001b[0m\u001b[1;33m\u001b[0m\u001b[0m\n\u001b[0;32m    379\u001b[0m                     'as input.'.format(n_features, self.__class__.__name__,\n",
      "\u001b[1;31mValueError\u001b[0m: X has 220 features, but this StandardScaler is expecting 236 features as input."
     ]
    }
   ],
   "source": [
    "# using previously fitted \"ss\" StandardScaler\n",
    "\n",
    "# transform\n",
    "X_true_test_ss = ss.transform(X_true_test)\n",
    "\n",
    "# scale\n",
    "ss = StandardScaler()\n",
    "\n",
    "# fit\n",
    "ss.fit(X_true_test)\n",
    "\n",
    "# transform\n",
    "X_train_ss = ss.transform(X_train)"
   ]
  },
  {
   "cell_type": "code",
   "execution_count": 169,
   "metadata": {},
   "outputs": [
    {
     "data": {
      "text/plain": [
       "(1167, 236)"
      ]
     },
     "execution_count": 169,
     "metadata": {},
     "output_type": "execute_result"
    }
   ],
   "source": [
    "X_train.shape # 236 features"
   ]
  },
  {
   "cell_type": "code",
   "execution_count": 168,
   "metadata": {},
   "outputs": [
    {
     "data": {
      "text/plain": [
       "(662, 220)"
      ]
     },
     "execution_count": 168,
     "metadata": {},
     "output_type": "execute_result"
    }
   ],
   "source": [
    "X_true_test.shape # 220 features"
   ]
  },
  {
   "cell_type": "code",
   "execution_count": null,
   "metadata": {},
   "outputs": [],
   "source": []
  },
  {
   "cell_type": "code",
   "execution_count": null,
   "metadata": {},
   "outputs": [],
   "source": []
  },
  {
   "cell_type": "code",
   "execution_count": null,
   "metadata": {},
   "outputs": [],
   "source": []
  },
  {
   "cell_type": "code",
   "execution_count": null,
   "metadata": {},
   "outputs": [],
   "source": []
  },
  {
   "cell_type": "code",
   "execution_count": null,
   "metadata": {},
   "outputs": [],
   "source": []
  },
  {
   "cell_type": "code",
   "execution_count": null,
   "metadata": {},
   "outputs": [],
   "source": []
  }
 ],
 "metadata": {
  "kernelspec": {
   "display_name": "Python 3",
   "language": "python",
   "name": "python3"
  },
  "language_info": {
   "codemirror_mode": {
    "name": "ipython",
    "version": 3
   },
   "file_extension": ".py",
   "mimetype": "text/x-python",
   "name": "python",
   "nbconvert_exporter": "python",
   "pygments_lexer": "ipython3",
   "version": "3.8.3"
  }
 },
 "nbformat": 4,
 "nbformat_minor": 4
}
